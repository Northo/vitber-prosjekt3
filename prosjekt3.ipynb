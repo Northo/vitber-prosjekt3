{
 "cells": [
  {
   "cell_type": "markdown",
   "metadata": {},
   "source": [
    "# Øving 3 - Numerisk integrasjon\n",
    "\n",
    "Øvingen har innleveringsfrist fredag 1. februar, kl 11:00. Øvingen blir veiledet i øvingstimen 25. januar.\n",
    "For å øvingen godkjent må du 1) laste opp en Jupyter Notebook (gjerne basert på denne du nå leser) og\n",
    "svare på prøve med kontrollspørsmål, begge deler i Blackboard.\n",
    "\n",
    "**Oppgave 1** Bestem konstanter $R_1, R_2, R_3$ slik at kvadraturformelen\n",
    "\n",
    "$$\n",
    "    Q[f] = R_1 f(0) + R_2 f(0.5) + R_3 f(1)\n",
    "$$\n",
    "\n",
    "approksimerer \n",
    "\n",
    "$$\n",
    "    \\int_0^1 f(x)\\,dx\n",
    "$$\n",
    "\n",
    "med presisjonsgrad minst lik 2.\n",
    "\n",
    "**Kontrollspørsmål 1:** Oppgi $ R_2 - \\frac12 R_1 +  R_0$"
   ]
  },
  {
   "cell_type": "markdown",
   "metadata": {},
   "source": [
    "**Oppgave 2** (Programmering). \n",
    "\n",
    "**a)** Implementer en adaptiv trapesmetode i Python som beskrevet i kapittel 5.4 \n",
    "(du kan gjerne bare oversette Program 5.2 til Python) i boka. Lag Python funksjonen slik at det teller opp og returnerer antall kall til funksjonen som definerer integranden (typisk kalt $f$).\n",
    "\n",
    "**b)** Kjør programmet med toleranse tol=1.0e-08 på integralet\n",
    "\n",
    "$$\n",
    "   I =  \\int_0^1 \\frac{e^{x}}{\\cos x}\\; dx\n",
    "$$\n",
    "\n",
    "**Kontrollspørsmål 2:** Hvor mange funksjonskall bruker programmet med den gitte toleransen på dette problemet.\n",
    "\n",
    "**c)** Test programmet med toleranse 1.0e-07 på problemet\n",
    "\n",
    "$$\n",
    "     \\int_0^{2\\sqrt{2\\pi}} \\sin x^2\\; dx\n",
    "$$\n",
    "\n",
    "Sannsynligvis returnerer funksjonen din et galt svar etter 1 iterasjon. Forklar hvorfor, og foreslå en måte å komme rundt problemet på. \n",
    "\n",
    "**Kontrollspørsmål 3:** Angi antall funksjonskall når du endrer øvre grense i integralet fra $b=2\\sqrt{2\\pi}$ til\n",
    "$b=5$.\n"
   ]
  },
  {
   "cell_type": "code",
   "execution_count": 11,
   "metadata": {},
   "outputs": [
    {
     "name": "stdout",
     "output_type": "stream",
     "text": [
      "oppgave 2 b) approksimajson, antall funkjsonskall:  (2.217714689806394, 53270)\n",
      "oppgave 2 c) approksimajson, antall funkjsonskall:  (-8.520839995119704e-15, 6)\n",
      "g(0)= 0.0  g(2*sqrt(2*pi))=  -4.532431118118384e-15\n",
      "Kontrollspm 3 - approksimajson, antall funkjsonskall:  (0.5279172847987492, 233862)\n"
     ]
    }
   ],
   "source": [
    "import math \n",
    "import numpy as np\n",
    "\n",
    "def adapquad(f,a0,b0,tol0):\n",
    "    integral=0\n",
    "    n=0           #antall intervall som gjennstår \n",
    "    a=[a0]\n",
    "    b=[b0]\n",
    "    #tol=[tol0]\n",
    "    \n",
    "    app=[trap(a[n],b[n],f)]\n",
    "    functioncall=2\n",
    "    while(n>=0):\n",
    "        oldapp=app[n]\n",
    "        #i=n-1\n",
    "        c=(a[n]+b[n])/2\n",
    "        #s_ab=s(a[n],b[n],f)\n",
    "        app.insert(n,s(a[n],c,f))\n",
    "        app.insert(n+1,s(c,b[n],f))\n",
    "        functioncall+=4\n",
    "        if abs(oldapp-app[n]-app[n+1])<3*tol0*(b[n]-a[n])/(b0-a0):\n",
    "            integral+=app[n]+app[n+1]  #godkjenner approksimasjonen på intervallet (a,b) og legger til i integralet \n",
    "            n=n-1\n",
    "        else:\n",
    "            a.insert(n+1,c)       \n",
    "            bi=b[n]\n",
    "            b.insert(n+1,bi)\n",
    "            b[n]=c\n",
    "            #tol_n=tol[n]\n",
    "            #tol.insert(n,tol_n/2)\n",
    "            #tol.insert(n+1,tol_n)\n",
    "            n+=1\n",
    "    return integral, functioncall\n",
    "         \n",
    "    \n",
    "\n",
    "def f(x):\n",
    "    return math.exp(x)/math.cos(x)\n",
    "def trap(a,b,f):\n",
    "    return (b-a)/2*(f(a)+f(b))\n",
    "\n",
    "tol=1e-8\n",
    "print(\"oppgave 2 b) approksimajson, antall funkjsonskall: \", adapquad(f,0,1,tol)) \n",
    "\n",
    "def g(x):\n",
    "    \n",
    "    return np.sin(x**2)\n",
    "\n",
    "print(\"oppgave 2 c) approksimajson, antall funkjsonskall: \",adapquad(g,0,2*math.sqrt(2*math.pi),1e-7))\n",
    "print(\"g(0)=\",g(0),\" g(2*sqrt(2*pi))= \",g(2*math.sqrt(2*math.pi)))\n",
    "print(\"Kontrollspm 3 - approksimajson, antall funkjsonskall: \",adapquad(g,0,5,1.0e-7))\n"
   ]
  },
  {
   "cell_type": "code",
   "execution_count": null,
   "metadata": {},
   "outputs": [],
   "source": []
  },
  {
   "cell_type": "markdown",
   "metadata": {},
   "source": [
    "Forklaring på oppgave 2 c). ettersom både g(a) og g(b) er lik null (her får jeg en verdi tilnærmet lik null) så blir S_[a,b], S_[a,c] og S_[c,b] også tilnærmet lik null og programmet godtar approksimasjonen på det første intervallet (a0,b0). For å unngå problemet kan det kanskje gå an å legge til en bertingelse om at S[a,b] må være over toleranse størrelsen for å godta approksimasjonen, men da må det kanskje legges til noe om hvor stort intervallet (a,b) trenger å være også."
   ]
  },
  {
   "cell_type": "code",
   "execution_count": null,
   "metadata": {},
   "outputs": [],
   "source": []
  },
  {
   "cell_type": "code",
   "execution_count": null,
   "metadata": {},
   "outputs": [],
   "source": []
  }
 ],
 "metadata": {
  "kernelspec": {
   "display_name": "Python 3",
   "language": "python",
   "name": "python3"
  },
  "toc": {
   "base_numbering": 1,
   "nav_menu": {},
   "number_sections": true,
   "sideBar": true,
   "skip_h1_title": true,
   "title_cell": "Table of Contents",
   "title_sidebar": "Contents",
   "toc_cell": false,
   "toc_position": {},
   "toc_section_display": true,
   "toc_window_display": false
  }
 },
 "nbformat": 4,
 "nbformat_minor": 2
}
