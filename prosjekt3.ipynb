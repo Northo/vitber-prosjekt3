{
 "cells": [
  {
   "cell_type": "markdown",
   "metadata": {},
   "source": [
    "# TMA4320 Introduksjon til vitenskapelige beregninger\n",
    "\n"
   ]
  },
  {
   "cell_type": "markdown",
   "metadata": {},
   "source": [
    "# Liten git guide\n",
    "\n",
    "## NB husk cell-> All output ->clear\n",
    "\n",
    "åpne cmd\n",
    "bruk cd (change directory) for å åpne mappen (>>cd FILPLASSERING)\n",
    "for å 'pushe' (laste opp endringer du har gjort):\n",
    "- git add FILNAVN  ( prosjekt3.ipynb)\n",
    "- git commit -m \"her kan du skive en liten commit meliding\"\n",
    "- git pull  \n",
    "- git push\n",
    "\n",
    "\n",
    "## Merge error\n",
    "Hvis du får opp at det står conflict når du forsøket å bruke git pull skyldes dette at vi begge har redigert på det samme og vi må bestemme hva vi skal beholde. Når man bruker git pull legges begge endringene inn i fila, og man må gå inn å redigere hvem man skal beholde og hvem man skal slette. \n",
    "Eksempel:\n",
    "fra før sto det t=100.\n",
    "hvis den andre allerede har endret til t=200, men du prøvde å endre til t=300 vil fila se ca sånn ut etter å ha bruk git pull.\n",
    "\n",
    "    \"t=200   \n",
    "\n",
    "\n",
    "problemet er at nar dette er lagt til får man ikke åpnet fila i jupyter notebook. Visual Studio fingerer derimot fint. Så åpne fila å slett det som ikke skal være der. Slik at det f.eks. står \n",
    "t=300 \n",
    "\n",
    "Hvis du puller å får merge conflict må du bare: \n",
    "- Åpne fila i Visual Studio og rediger \n",
    "- git add\n",
    "- git commit \n",
    "- git push "
   ]
  },
  {
   "cell_type": "markdown",
   "metadata": {},
   "source": [
    "# 2 Exercises\n",
    "\n",
    "## 2.1 \n",
    "\n",
    "Vis at \n",
    "\n",
    "$$ \n",
    "\\begin{align}\n",
    "  \\tilde{\\phi}(x,t)=\\frac{1}{\\sqrt{4 \\pi D t}} e^{- \\frac{(x-\\mu)^2 }{4 D t}}\n",
    "\\end{align} \n",
    "$$\n",
    "\n",
    "hvor D er en konstant oppfyller difusjonsligningen \n",
    "\n",
    "$$\n",
    "\\begin{align}\n",
    "\\frac{\\partial \\phi (x,t) }{\\partial t}= D \\frac{\\partial^2 \\phi (x,t)}{\\partial x^2}.\n",
    "\\end{align}\n",
    "$$\n",
    "\n",
    "\n",
    "La oss først se på den tidsderiverte av $\\tilde{\\phi}$\n",
    "$$\n",
    "\\begin{align}\n",
    "\\frac{\\partial \\tilde{\\phi} (x,t)}{\\partial t} &=\\frac{\\partial}{\\partial t}\\frac{1}{\\sqrt{4 \\pi D t}} e^{- \\frac{(x-\\mu)^2 }{4 D t}} \\\\\n",
    "&=  \\Big ( \\frac{\\partial}{\\partial t} \\frac{1}{\\sqrt{4 \\pi D t}} \\Big )  e^{- \\frac{(x-\\mu)^2 }{4 D t}}\n",
    "+ \\frac{1}{\\sqrt{4 \\pi D t}}  \\Big ( \\frac{\\partial}{\\partial t}  e^{- \\frac{(x-\\mu)^2 }{4 D t}} \\Big )  \\\\\n",
    "&=\\frac{1}{\\sqrt{4 \\pi D t}}e^{- \\frac{(x-\\mu)^2 }{4 D t}}\\Big[ \\frac{-1/2}{t} + \\frac{(x-\\mu)^2}{4 D t^2} \\Big].\n",
    "\\end{align}\n",
    "$$\n",
    "\n",
    "Vidre ser vi på den dobbelt deriverte mhp. x. \n",
    "$$\n",
    "\\begin{align}\n",
    " \\frac{\\partial^2 \\tilde{\\phi} (x,t)}{\\partial x^2} &=\\frac{\\partial^2 }{\\partial x^2} \\frac{1}{\\sqrt{4 \\pi D t}} e^{- \\frac{(x-\\mu)^2 }{4 D t}}  \\\\\n",
    "&= \\frac{\\partial}{\\partial x} \\Big ( \\frac{-2 (x-mu)}{4 D t}  \\frac{1}{\\sqrt{4 \\pi D t}}  e^{- \\frac{(x-\\mu)^2 }{4 D t}} \\Big )\\\\\n",
    "&= \\frac{1}{\\sqrt{4 \\pi D t}}  e^{- \\frac{(x-\\mu)^2 }{4 D t}} \\Big[   \n",
    "\\frac{-2}{4 D t} + \\frac{4 (x-\\mu)^2}{4^2 D^2 t^2}\n",
    "\\Big]\n",
    "\\end{align}\n",
    "$$\n",
    "\n",
    "Det kan nå lett ses at høyreside av diffusjonsligningen blir\n",
    "$$\n",
    "\\begin{align}\n",
    "D \\frac{\\partial^2 \\tilde{\\phi} (x,t)}{\\partial x^2} =\\frac{1}{\\sqrt{4 \\pi D t}}e^{- \\frac{(x-\\mu)^2 }{4 D t}}\\Big[ \\frac{-1/2}{t} + \\frac{(x-\\mu)^2}{4 D t^2} \\Big],\n",
    "\\end{align}\n",
    "$$\n",
    "som er lik den tidseriverte av $\\tilde{\\phi}$ og dermed at funskjonen oppfyller diffusjonsligningen.  \n",
    "\n",
    "\n",
    "////////////////////////////////////\n",
    "HUSK: \n",
    "- tilde over phi \n",
    "- sjekk om det finnes en bedre måte å skrive e^x på \n",
    "- husk å sjekke komma og punktum "
   ]
  },
  {
   "cell_type": "markdown",
   "metadata": {},
   "source": [
    "## 2.2\n",
    "### 2.2.1\n",
    "\n",
    "La D være en konstant og start med partikkeldistrubisjonen \n",
    "$$\n",
    "\\begin{align}\n",
    "\\phi(x,0)=\\delta (x-x_0).\n",
    "\\end{align}\n",
    "$$\n",
    "\n",
    "Her kan vi bruke at \n",
    "\n",
    "$$\n",
    "\\begin{align}\n",
    "\\delta (x-x_0) = \\frac{1}{2 \\pi} \\int_{-\\infty}^{\\infty} e^{-ik(x-x_0)}dk.\n",
    "\\end{align}\n",
    "$$\n",
    "\n",
    "Det gir at\n",
    "\n",
    "$$\n",
    "\\begin{align}\n",
    "\\frac{\\partial}{\\partial t}\\phi(x,t) \\big |_{t=0} &= D \\frac{\\partial^2}{\\partial x^2} \\phi (x,t') \\big |_{t'=0} = D \\phi \\frac{\\partial^2}{\\partial x^2}(x,0) \\\\\n",
    "&=D \\frac{\\partial^2}{\\partial x^2} \\delta(x-x_0)  \\\\\n",
    "&= D \\frac{1}{2\\pi} \\frac{\\partial^2}{\\partial x^2} \\int_{-\\infty}^{\\infty} e^{-ik(x-x_0)}dk \\\\\n",
    "&= D (-ik)^2  \\frac{1}{2\\pi}  \\int_{-\\infty}^{\\infty} e^{-ik(x-x_0)}dk  \\\\\n",
    "&= -Dk^2 \\phi (x,0)\n",
    "\\end{align}\n",
    "$$\n",
    "\n",
    "Dette gir at for hver gang $\\phi$ tidsderiveres detter ut faktor $-Dk^2$. \n",
    "\n",
    "Dette kan generaliseres til at \n",
    "$$\n",
    "\\begin{align}\n",
    "\\big ( \\frac{\\partial}{\\partial t} \\big )^{n} \\phi (x,t) \\big |_{t=0} = (-Dk^2)^n \\phi(x,t)\n",
    "\\end{align}\n",
    "$$\n",
    "\n",
    "For å finne $\\phi(x,t)$ kan vi så se på Taylor utvikling av funskjonen. \n",
    "\n",
    "\n",
    "Dette kan brukes i taylor utviklingen\n",
    "\n",
    "$$\n",
    "\\begin{align}\n",
    "\\phi (x,t) &= \\phi (x,0) + \\sum_{n=1}^{\\infty} \\frac{t^n}{n!} \\frac{\\partial^n \n",
    "\\phi(x,t')}{\\partial t'^n } \n",
    "\\Big |_{t'=0}    \\\\\n",
    "&=\\phi(x,0)+ \\sum_{n=1}^{\\infty} \\frac{ (-Dk^2t)^n}{n!} \\phi(x,0) \\\\\n",
    "&= \\phi (x,0) e^{-Dk^2t}  \\\\\n",
    "&= \\frac{1}{2 \\pi} \\int_{- \\infty}^{\\infty} e^{-Dk^2t}e^{-ik(x-x_0}) dk\n",
    "\\end{align}\n",
    "$$"
   ]
  },
  {
   "cell_type": "markdown",
   "metadata": {},
   "source": [
    "En måte å løse dette integralet på er Fourier trasnformasjon. \n",
    "$$\n",
    "\\begin{align}\n",
    "\\hat{f}(w)= \\frac{1}{\\sqrt{2 \\pi}} \\int_{-\\infty}^{\\infty} f(z)  e^{-iwz}dz.\n",
    "\\end{align}\n",
    "$$\n",
    "\n",
    "Legg merke til at vis vi bytter variabler slik at $w=\\tilde{x}=x-x_0$ og $z=k$, og lar $f$ også være avhengig av $t$ får vi\n",
    "$$\n",
    "\\begin{align}\n",
    "\\hat{f}(\\tilde{x},t)= \\frac{1}{\\sqrt{2 \\pi}} \\int_{-\\infty}^{\\infty} f(k,t)  e^{-i\\tilde{x}k}dk.\n",
    "\\end{align}\n",
    "$$\n",
    "\n",
    "Ved å sette $f(k,t)=\\frac{1}{\\sqrt{2\\pi}} e^{-Dtk^2}$ får vi \n",
    "$$\n",
    "\\phi(x,t)= \\hat{f}(\\tilde{x},t)= \\frac{1}{\\sqrt{2 \\pi}} \\int_{-\\infty}^{\\infty} f(k,t)  e^{-i\\tilde{x}k}dk.\n",
    "$$\n",
    "\n",
    "# kilde her????\n",
    "Det er kjent at   \n",
    "$$\n",
    "\\begin{align}\n",
    "f(x)=e^{-ax^2} \\Longleftrightarrow \\hat{f}(w)=\\frac{1}{\\sqrt{2a}}e^{-\\frac{w^2}{4a} }. \n",
    "\\end{align}\n",
    "$$\n",
    "\n",
    "Ved sammenligning ser vi da at \n",
    "$$\n",
    "\\begin{align}\n",
    "\\phi(x,t) &= \\hat{f}(\\tilde{x},t)= \\frac{1}{\\sqrt{2\\pi}} \\frac{1}{\\sqrt{2Dt}} e^{-\\frac{\\tilde{x}^2}{4Dt}}\n",
    "= \\frac{1}{\\sqrt{4\\pi Dt}} e^{-\\frac{(x-x_0)^2}{4Dt}}\n",
    "\\end{align}\n",
    "$$\n",
    "\n"
   ]
  },
  {
   "cell_type": "markdown",
   "metadata": {},
   "source": [
    "### 2.2.2\n",
    "\n",
    "Ved å studere resultatet fra oppgave 2.2.1 kan det ses at $D$ påvirker størrelsen av faktoren $4Dt$, og at den derfor vil si noe om hvor raskt systemet ender seg. Ved t=0 ser man at det kun er i $x=x_0$ at eksponenten er 0 og at uttrykket går mot $\\infty$, for alle andre $x\\neq x_0$ går eksponeneten mot $-\\infty$ og utrykket mot 0. Dette skjer kun ved $t=0$, for t=0 ser man at uttrykket endrer seg slik at $\\phi(x,t)$ flater seg ut. \n",
    "\n",
    "$\\phi(x,t)$ fra oppgave 2.2.1 er en normalfordeling der variansen $\\sigma^2=4Dt$. Variansen sier noe om spredningen av partikklene, slik at $D$ sier noe om hvor raskt spredningen endres. Jo større $D$ jo raskere spres partikklene. "
   ]
  },
  {
   "cell_type": "markdown",
   "metadata": {},
   "source": [
    "### 2.2.3 \n",
    "\n"
   ]
  },
  {
   "cell_type": "markdown",
   "metadata": {},
   "source": [
    "# Oppgave 3\n",
    "\n",
    "I koden nedenfor simuleres \"random walk\" i 1D. Dette gjøres ved å for hvert tidsintervall $\\Delta t$ bestemme tilfeldig om en partikkel skal gå et steg til venstre eller ett steg til høyre. Her er det antatt at alle steg er like lange $h=1$, og partikkelen må gå enten til høyre, eller til venstre og kan ikke stå i ro. \n",
    "\n",
    "## Kodeforklaring \n",
    "\n",
    "For å velge om en partikkel går mot høyre eller venstre brukes funskjonen generateRandomStep() som tar inn sannmsynligheten, P, for at en partikkel går mot venstre. Denne er generell og brukes i senere oppgaver, men i denne oppgaven setter P= 0.5, slik at begge retninger er like sannsynlig. Funksjonen genererer et tilfeldig flytall mellom null og én ved bruk av funsksjonen random() fra random biblioteket. Funksjonen returnener -1 om der tilfeldige tallet er mindre enn P, og 1 om det er større.\n",
    "\n",
    "Funskjonen randomParticlePosition() tar inn sannsynligheten for at en partikkel beveger seg mot venstre og antall steg per partikkel, n. Funkjsonen lar partikkelen starte i pos=0 og ved hjelp av generateRandomStep() plusser den på eller trekker fra 1 for hvert tilfeldige sted. Etter n antall steg returneres posisjonen. \n",
    "\n",
    "Alle partiklene slippes i i punktet $x=0$. Funksjonen plotMultipleParticlePos tar inn antall partikler, n, som skal slippes og hvor mange steg, t (hvor mange tidsintervall), hver av partiklene skal ta. I funskjonen oprettes en hvor sluttposisjonen til hver partikkel skal lagres. For hver partikkel brukes til funskjonen randomPariclePosition til å finne en tilfeldig posisjon for hver partikkel, basert på forklaringen ovenfor, og denne posisjonen lagres så i listen med posisjoner. Til slutt plottes posisjonene i et histogram, slik at høyden på hver søyle representerer andel partikkler. "
   ]
  },
  {
   "cell_type": "code",
   "execution_count": 87,
   "metadata": {},
   "outputs": [
    {
     "name": "stdout",
     "output_type": "stream",
     "text": [
      "(-0.276, 10.15695938753326)\n"
     ]
    },
    {
     "data": {
      "image/png": "[encoded data removed]",
      "text/plain": [
       "<Figure size 432x288 with 1 Axes>"
      ]
     },
     "metadata": {},
     "output_type": "display_data"
    }
   ],
   "source": [
    "#Hvordan skal vi normere? må vi gjøre noe med både x-verdiene og y-verdiene?\n",
    "#Skjedde mye rart da jeg skulle prøve å plotte med normalfordeling i samme plot...\n",
    "#får ikke til å skalere\n",
    "\n",
    "\n",
    "import random\n",
    "import numpy as np\n",
    "import matplotlib.pyplot as plt\n",
    "from scipy.stats import norm\n",
    "import math\n",
    "\n",
    "\n",
    "\n",
    "\"\"\"hjelpefunksjon for plotting av histogram\"\"\"\n",
    "\n",
    "def plotParameters(posList):\n",
    "    numOfPos=round(max(posList)-min(posList))+1 \n",
    "    if numOfPos%2==0:\n",
    "        numOfBins=numOfPos//2\n",
    "        hmin=min(posList)-0.5\n",
    "        hmax=max(posList)+0.5\n",
    "    else: \n",
    "        numOfBins=numOfPos//2+1\n",
    "        hmin=min(posList)-1\n",
    "        hmax=max(posList)+1\n",
    "    return  numOfBins, hmin, hmax\n",
    "\n",
    "\n",
    "n=1000  #antall partikler\n",
    "t=100   #antall tidssteg\n",
    "\n",
    "#returnerer -1 for skritt mot venstre, og 1 for skritt mot høyre\n",
    "#P er sannsynligheten for skritt mot venstre (for å kunne bruke i alle oppgaver)\n",
    "def generateRandomStep(P): \n",
    "    randomNumber=random.random()\n",
    "    if randomNumber<=P:\n",
    "        return -1\n",
    "    else:\n",
    "        return 1\n",
    "\n",
    "#returnerer 1 partikkels posisjon etter t tilfeldige skritt\n",
    "def randomParticlePosition(t,P): \n",
    "    pos=0\n",
    "    for i in range(t):\n",
    "        step=generateRandomStep(P)\n",
    "        pos+=step\n",
    "    return pos\n",
    "\n",
    "#plotter tilfeldige posisjoner for n antall partikler\n",
    "#Kan bare ende på partall antall steg,så kan evt bare plotte dette (ikke odetall, blir da kurve ikke brått opp og ned graf)\n",
    "def plotMultipleParticlesPos(n,t):\n",
    "    listOfPositions=[]\n",
    "    for i in range(n):           #for n partikler\n",
    "        pos=randomParticlePosition(t,0.5)   #finner posisjon til partikkelen\n",
    "        listOfPositions.append(pos)\n",
    "    xList = np.arange(min(listOfPositions),max(listOfPositions),1)    \n",
    " \n",
    "    #Skalerer listen, fordi total sannsynlighet må jo være 1\n",
    "\n",
    "    parameters=norm.fit(listOfPositions) #normalfordeling tilpasset dataene\n",
    "    print(parameters)\n",
    "    fitted_pdf = norm.pdf(xList,loc = parameters[0],scale = parameters[1])\n",
    "    \n",
    "  \n",
    "    numberOfBins, hmin, hmax = plotParameters(listOfPositions) \n",
    "    plt.plot(xList,fitted_pdf,\"red\",label='tilpasset normalfordeling') #normalfordelingskurve\n",
    "    plt.hist(listOfPositions,density=True,bins=numberOfBins,range=(hmin,hmax),label='simulert partikkelfordeling')  #plotter dataene\n",
    "    plt.title(\"Figur 1: Random walk i 1D med V=0\")\n",
    "    plt.ylabel(\"Andel partikkler\")\n",
    "    plt.xlabel(\"x\")\n",
    "    plt.legend()\n",
    "    plt.show()\n",
    "    #print(fitted_pdf)\n",
    "        \n",
    "plotMultipleParticlesPos(n,t)\n",
    "\n"
   ]
  },
  {
   "cell_type": "markdown",
   "metadata": {},
   "source": [
    "FIGUR 1: Figuren viser et histogram av andel partikkler per posisjon etter simulert  \"random walk\" i 1D. Den røde grafen viser normalfordeling best mulig tilpasset parikkelenes posisjon. \n",
    "\n",
    "## Forklaring av resultat \n",
    "\n",
    "Figur 1 viser hvordan fordelingen av parikler ble etter simlasjonen kjørt ovenfor. Det kan ses at fordelingen til partiklene til en viss grad stemmer overnens med den tilpassede normalfordelingen. Noen"
   ]
  },
  {
   "cell_type": "code",
   "execution_count": null,
   "metadata": {},
   "outputs": [],
   "source": []
  },
  {
   "cell_type": "markdown",
   "metadata": {},
   "source": [
    "# Oppgave 5 \n",
    "\n",
    "\n",
    "\n"
   ]
  },
  {
   "cell_type": "code",
   "execution_count": 109,
   "metadata": {},
   "outputs": [],
   "source": [
    "import scipy.constants\n",
    "\n",
    "#k=0.05*scipy.constants.eV #hva skal vi sette denne?\n",
    "T0=273+37\n",
    "kb=scipy.constants.k\n",
    "beta=1/(kb*T0) #??\n",
    "h=1 #skrittlengde\n",
    "t=100\n",
    "n=1000\n",
    "\n",
    "k= 3/beta\n",
    "betak= 3\n",
    "\n",
    "#Definerer potensialene\n",
    "\n",
    "def V1(x):\n",
    "    return x\n",
    "\n",
    "def V2(x):\n",
    "    if abs(x)<3*h:  #x>-3*h 3*hor x<3*h:\n",
    "        return 1\n",
    "    else:\n",
    "        return 0\n",
    "    \n",
    "def V3(x):\n",
    "    if x<-3*h:\n",
    "        return -1\n",
    "    elif x>3*h:\n",
    "        return 1\n",
    "    else:\n",
    "        return (-1+2*((x+3*h)/6*h))\n",
    "    \n",
    "     \n",
    "    \n",
    "def plotParticlePositionInPotential(k,beta,h,n,t,V):\n",
    "\n",
    "   \n",
    "    posList=[]  #\n",
    "\n",
    "    for i in range(n):#for n partikler\n",
    "        pos=0\n",
    "        for j in range(t): #t antall skritt\n",
    "            PdivP=math.exp(-betak*(V(pos-h)-V(pos+h)))\n",
    "            P=PdivP/(1+PdivP)\n",
    "            step=generateRandomStep(P)\n",
    "            pos+=step\n",
    "        posList.append(pos);\n",
    "    \n",
    "    #print(posList)\n",
    "    \n",
    "    numberOfBins , hmin, hmax = plotParameters(posList);\n",
    "    newHmin=hmin - ((hmin+t)//2)*2\n",
    "    newHmax=hmax + ((t-hmax)//2)*2\n",
    "    print(newHmin,newHmax)\n",
    "    \n",
    "    newNumberOfBins = round(numberOfBins +((hmin+t)//2)+((t-hmax)//2)) \n",
    "    #newNumberOfBins=numberOfBins\n",
    "    \n",
    "    plt.hist(posList, density=True,bins=newNumberOfBins, range=(newHmin,newHmax))\n",
    "    plt.show()\n",
    "    "
   ]
  },
  {
   "cell_type": "markdown",
   "metadata": {},
   "source": [
    "## 5.1"
   ]
  },
  {
   "cell_type": "code",
   "execution_count": 110,
   "metadata": {},
   "outputs": [
    {
     "name": "stdout",
     "output_type": "stream",
     "text": [
      "-99 99\n"
     ]
    },
    {
     "data": {
      "image/png": "[encoded data removed]",
      "text/plain": [
       "<Figure size 432x288 with 1 Axes>"
      ]
     },
     "metadata": {},
     "output_type": "display_data"
    }
   ],
   "source": [
    "plotParticlePositionInPotential(k,beta,h,n,t,V1)\n",
    "\n"
   ]
  },
  {
   "cell_type": "markdown",
   "metadata": {},
   "source": [
    "## 5.2"
   ]
  },
  {
   "cell_type": "code",
   "execution_count": 111,
   "metadata": {
    "scrolled": true
   },
   "outputs": [
    {
     "name": "stdout",
     "output_type": "stream",
     "text": [
      "-99 99\n"
     ]
    },
    {
     "data": {
      "image/png": "[encoded data removed]",
      "text/plain": [
       "<Figure size 432x288 with 1 Axes>"
      ]
     },
     "metadata": {},
     "output_type": "display_data"
    }
   ],
   "source": [
    "\n",
    "plotParticlePositionInPotential(k,beta,h,n,t,V2)"
   ]
  },
  {
   "cell_type": "markdown",
   "metadata": {},
   "source": [
    "## 5.3 "
   ]
  },
  {
   "cell_type": "code",
   "execution_count": 112,
   "metadata": {
    "scrolled": true
   },
   "outputs": [
    {
     "name": "stdout",
     "output_type": "stream",
     "text": [
      "-99 99\n"
     ]
    },
    {
     "data": {
      "image/png": "[encoded data removed]",
      "text/plain": [
       "<Figure size 432x288 with 1 Axes>"
      ]
     },
     "metadata": {},
     "output_type": "display_data"
    }
   ],
   "source": [
    "plotParticlePositionInPotential(k,beta,h,n,t,V3)\n"
   ]
  },
  {
   "cell_type": "markdown",
   "metadata": {},
   "source": [
    "# Oppgave 7"
   ]
  },
  {
   "cell_type": "code",
   "execution_count": 96,
   "metadata": {},
   "outputs": [
    {
     "data": {
      "image/png": "[encoded data removed]",
      "text/plain": [
       "<Figure size 432x288 with 1 Axes>"
      ]
     },
     "metadata": {},
     "output_type": "display_data"
    },
    {
     "data": {
      "image/png": "[encoded data removed]",
      "text/plain": [
       "<Figure size 432x288 with 1 Axes>"
      ]
     },
     "metadata": {},
     "output_type": "display_data"
    },
    {
     "data": {
      "image/png": "[encoded data removed]",
      "text/plain": [
       "<Figure size 432x288 with 1 Axes>"
      ]
     },
     "metadata": {},
     "output_type": "display_data"
    }
   ],
   "source": [
    "#HUSK. If a particle reaches the\n",
    "#system edges, it can only move into the system in the next time step.\n",
    "\n",
    "\n",
    "h=1\n",
    "dt=1\n",
    "L=50\n",
    "Cc=0.07*scipy.constants.e*scipy.constants.N_A     ##*10**6 M står for mol og ikke Mega\n",
    "\n",
    "t=1000\n",
    "\n",
    "\n",
    "\n",
    "\n",
    "V0=1/beta \n",
    "V0_Na=V0 \n",
    "V0_K=V0\n",
    "\n",
    "x0=L/4\n",
    "t0=0\n",
    "NaB0=1450  #skriver B for utenfor cellen, og A for innenfor\n",
    "KB0=50\n",
    "NaA0=60\n",
    "KA0=1400\n",
    "\n",
    "\n",
    "def V_Na1(x,Vt):                                                              ##litt usikker på verdier her \n",
    "    if x>=-h and x<=h:\n",
    "        return V0_Na+(Vt/2-(Vt/(2*h))*x)  #lineær overgang mellom utsiden og innsiden    \n",
    "    elif x<-h:\n",
    "        return Vt\n",
    "    else:\n",
    "        return 0\n",
    "\n",
    "    \n",
    "def V_K1(x,Vt):\n",
    "    if x>=-h and x<=h:\n",
    "        return V0_K+(Vt/2-(Vt/(2*h))*x)\n",
    "    elif x<-h:\n",
    "        return Vt\n",
    "    else:\n",
    "        return 0\n",
    "    \n",
    "\n",
    "def randomWalkPotential(V_Na,V_K,V0): #hvilke parametere bør tas inn?\n",
    "    NaPos=[-x0]*NaB0+[x0]*NaA0  #liste over posisjon til hver Na-partiklene\n",
    "    #legger til riktig antall utenfor og inni cellen\n",
    "    KPos=[-x0]*KB0+[x0]*KA0   #liste over posisjon til hver K-partikkel\n",
    "    tList=np.arange(0,t,1)   #liste med tidsverdier\n",
    "    #QB=KB0+NaB0  #ladning utenfor    \n",
    "    \n",
    "    \n",
    "    #ladning inni cellen (ved start):\n",
    "    QA=KA0+NaA0#husk at hver partikkel representerer 0.1mM                                      #antall partikler på innsiden \n",
    "    #Q_plus=abs(QA-QB)\n",
    "    \n",
    "    #antall K- og Na- partikler utenfor og innenfor cellen\n",
    "    KA=KA0\n",
    "    NaA=NaA0\n",
    "    KB=KB0   #trengs disse egt? tror de er konstante\n",
    "    NaB=NaB0\n",
    "    \n",
    "    VtList=[]                \n",
    "    \n",
    "    #plt.hist(NaPos,bins=50)\n",
    "    #plt.show()\n",
    "    #plt.hist(KPos,bins=50)\n",
    "    #plt.show()\n",
    "    \n",
    "    for i in range(t):\n",
    "        #regner ut potensialet V(t)\n",
    " \n",
    "        \n",
    "        Vt=(QA*0.0001*scipy.constants.N_A)/Cc\n",
    "        \n",
    "        VtList.append(Vt)   \n",
    "        \n",
    "        #print(\"Vt\",Vt,\"partIn\",partIn)\n",
    "        #print(NaPos)\n",
    "        \n",
    "        #Na-partiklene:\n",
    "        for j in range(len(NaPos)):\n",
    "                try:\n",
    "                    PdivP_Na=math.exp(-beta*(V_Na(NaPos[j]-h,Vt)-V_Na(NaPos[j]+h,Vt))) #Hvilket potensial skal her?\n",
    "                except: \n",
    "                    print(\":(\")\n",
    "                    print(\"beta:\",beta,\"V_Na(NaPos[j]-h,Vt):\",V_Na(NaPos[j]-h,Vt),\"V_Na(NaPos[j]+h,Vt):\",V_Na(NaPos[j]+h,Vt))\n",
    "                    print(\"NaPos[j]+h\",NaPos[j]+h)\n",
    "                P_Na=PdivP_Na/(1+PdivP_Na)\n",
    "                step=generateRandomStep(P_Na)\n",
    "                NaPos[j]+=step\n",
    "        \n",
    "        #For K-partiklene\n",
    "        for k in range(len(KPos)):\n",
    "                try:\n",
    "                    PdivP_K=math.exp(-beta*(V_K(KPos[k]-h,Vt)-V_K(KPos[k]+h,Vt))) \n",
    "                except:\n",
    "                    print(\"feil i for k in range(len(KPos)) \")\n",
    "                P_K=PdivP_K/(1+PdivP_K)\n",
    "                step=generateRandomStep(P_K)\n",
    "                KPos[k]+=step\n",
    "\n",
    "        \n",
    "        #regner ut antall partikler inni cellen\n",
    "        KA=0    #la på dette\n",
    "        NaA=0   #og dette\"\n",
    "        #print(KPos)\n",
    "        \n",
    "        #for å finne ut total ladning inni cellen\n",
    "        for K in KPos:\n",
    "            if K<-h:\n",
    "                KA+=1       #pluss i stedet for minus er det ikke\n",
    "                #print(\"hei\")\n",
    "        #print(NaPos)\n",
    "        #print(QA)\n",
    "        for Na in NaPos:\n",
    "            #print(Na)\n",
    "            if Na<-h:\n",
    "                NaA+=1      #pluss i stedet for minus er det ikke\n",
    "                #print(\"hei\")\n",
    "        QA=(KA+NaA)\n",
    "        \n",
    "        \n",
    "        #if (t%50==0):\n",
    "             #plt.hist(NaPos,bins=50)\n",
    "             #plt.show()\n",
    "             #plt.hist(KPos,bins=50)\n",
    "             #plt.show()\n",
    "                \n",
    "  \n",
    "\n",
    "        \n",
    "        \n",
    "        \n",
    "        \n",
    "    binsNa,xminNa,xmaxNa=plotParameters(NaPos)\n",
    "    plt.hist(NaPos,bins=binsNa,range=(xminNa,xmaxNa))\n",
    "    #plt.ylim(0,10)\n",
    "    plt.show()\n",
    "    binsK,xminK,xmaxK=plotParameters(KPos)\n",
    "    plt.hist(KPos,bins=binsK,range=(xminK,xmaxK))\n",
    "    plt.show()\n",
    "    \n",
    "    plt.plot(tList,VtList)\n",
    "    #print(Vt)\n",
    "\n",
    "    \n",
    "\n",
    "randomWalkPotential(V_Na1,V_K1,V0)\n",
    "        \n",
    "        "
   ]
  },
  {
   "cell_type": "markdown",
   "metadata": {},
   "source": [
    "oppgave 7.2"
   ]
  },
  {
   "cell_type": "code",
   "execution_count": 7,
   "metadata": {},
   "outputs": [
    {
     "data": {
      "image/png": "[encoded data removed]",
      "text/plain": [
       "<Figure size 432x288 with 1 Axes>"
      ]
     },
     "metadata": {},
     "output_type": "display_data"
    },
    {
     "data": {
      "image/png": "[encoded data removed]",
      "text/plain": [
       "<Figure size 432x288 with 1 Axes>"
      ]
     },
     "metadata": {},
     "output_type": "display_data"
    },
    {
     "data": {
      "image/png": "[encoded data removed]",
      "text/plain": [
       "<Figure size 432x288 with 1 Axes>"
      ]
     },
     "metadata": {},
     "output_type": "display_data"
    },
    {
     "data": {
      "image/png": "[encoded data removed]",
      "text/plain": [
       "<Figure size 432x288 with 1 Axes>"
      ]
     },
     "metadata": {},
     "output_type": "display_data"
    },
    {
     "data": {
      "image/png": "[encoded data removed]",
      "text/plain": [
       "<Figure size 432x288 with 1 Axes>"
      ]
     },
     "metadata": {},
     "output_type": "display_data"
    }
   ],
   "source": [
    "V01=1/beta #det er verdien over brøkstreken som viser hva beta ganger V0K og V0Na er\n",
    "#og det er jo de oppgaven oppgir verdier vi skal sette dem.\n",
    "V02=10/beta\n",
    "\n",
    "randomWalkPotential(V_Na1,V_K1,V01)\n",
    "\n",
    "randomWalkPotential(V_Na1,V_K1,V02)"
   ]
  },
  {
   "cell_type": "code",
   "execution_count": null,
   "metadata": {},
   "outputs": [],
   "source": []
  },
  {
   "cell_type": "code",
   "execution_count": null,
   "metadata": {},
   "outputs": [],
   "source": []
  }
 ],
 "metadata": {
  "kernelspec": {
   "display_name": "Python 3",
   "language": "python",
   "name": "python3"
  },
  "language_info": {
   "codemirror_mode": {
    "name": "ipython",
    "version": 3
   },
   "file_extension": ".py",
   "mimetype": "text/x-python",
   "name": "python",
   "nbconvert_exporter": "python",
   "pygments_lexer": "ipython3",
   "version": "3.6.4"
  }
 },
 "nbformat": 4,
 "nbformat_minor": 2
}
