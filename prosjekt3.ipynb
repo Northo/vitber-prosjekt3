{
 "cells": [
  {
   "cell_type": "markdown",
   "metadata": {},
   "source": [
    "# TMA4320 Introduskjon til vitenskapelige beregninger\n",
    "\n"
   ]
  },
  {
   "cell_type": "markdown",
   "metadata": {},
   "source": [
    "# 2 Exercises\n",
    "\n",
    "## 2.1 \n",
    "\n",
    "Show that \n",
    "\n",
    "$$ \n",
    "\\begin{align}\n",
    "  \\phi(x,t)=\\frac{1}{\\sqrt{4 \\pi D t}} e^{- (x-\\mu)^2 /(4 D t)}\n",
    "\\end{align} \n",
    "$$\n",
    "\n",
    "where D is a constant, is a solution to the equation \n",
    "\n",
    "$$\n",
    "\\begin{align}\n",
    "\\frac{\\partial \\phi (x,t) }{\\partial t}= D \\frac{\\partial^2 \\phi (x,t)}{\\partial x^2}\n",
    "\\end{align}\n",
    "$$\n",
    "\n",
    "The left side becomes \n",
    "\n",
    "$$\n",
    "\\begin{align}\n",
    "\\frac{\\partial \\phi (x,t)}{\\partial t} &=\\frac{\\partial}{\\partial t}\\frac{1}{\\sqrt{4 \\pi D t}} e^{- (x-\\mu)^2 /(4 D t))} \\\\\n",
    "&=\\frac{1}{\\sqrt{4 \\pi D}}e^{- (x-\\mu)^2 /(4 D t))}\\big[ \\frac{-1/2}{t^{3/2}} + \\frac{(x-\\mu)^2}{4 D t^2} \\big].\n",
    "\\end{align}\n",
    "$$\n",
    "\n",
    "and the right side becomes\n",
    "$$\n",
    "\\begin{align}\n",
    "D \\frac{\\partial^2 \\phi (x,t)}{\\partial x^2} &=  \\\\\n",
    "\\frac{\\partial}{\\partial x} \\frac{-2 (x-mu)}{4 D t}  \\frac{1}{\\sqrt{4 \\pi D t}}  e^{- (x-\\mu)^2 /(4 D t)} \n",
    "& = D \\frac{1}{\\sqrt{4 \\pi D t}}  e^{- (x-\\mu)^2 /(4 D t)} \\Big[   \n",
    "\\frac{-2}{4 D t} + \\frac{4 (x-\\mu)^2}{4^2 D^2 t^2}\n",
    "\\Big]\n",
    "\\end{align}\n",
    "$$\n",
    "\n",
    "\n",
    "////////////////////////////////////\n",
    "HUSK: \n",
    "- tilde over phi \n",
    "- sjekk om det finnes en bedre måte å skrive e^x på \n",
    "- husk å sjekke komma og punktum "
   ]
  },
  {
   "cell_type": "code",
   "execution_count": null,
   "metadata": {},
   "outputs": [],
   "source": []
  }
 ],
 "metadata": {
  "kernelspec": {
   "display_name": "Python 3",
   "language": "python",
   "name": "python3"
  },
  "language_info": {
   "codemirror_mode": {
    "name": "ipython",
    "version": 3
   },
   "file_extension": ".py",
   "mimetype": "text/x-python",
   "name": "python",
   "nbconvert_exporter": "python",
   "pygments_lexer": "ipython3",
   "version": "3.6.4"
  }
 },
 "nbformat": 4,
 "nbformat_minor": 2
}
