{
 "cells": [
  {
   "cell_type": "markdown",
   "metadata": {},
   "source": [
    "# TMA4320 Introduksjon til vitenskapelige beregninger\n",
    "\n"
   ]
  },
  {
   "cell_type": "markdown",
   "metadata": {},
   "source": [
    "# Liten git guide\n",
    "\n",
    "## NB husk cell-> All output ->clear\n",
    "\n",
    "åpne cmd\n",
    "bruk cd (change directory) for å åpne mappen (>>cd FILPLASSERING)\n",
    "for å 'pushe' (laste opp endringer du har gjort):\n",
    "- git add FILNAVN  ( prosjekt3.ipynb)\n",
    "- git commit -m \"her kan du skive en liten commit meliding\"\n",
    "- git pull  \n",
    "-git push\n",
    "Ferdig \n",
    "\n",
    "for å 'pulle' (laste ned endringer andre har gjort) \n",
    "- git pull \n",
    "Ferdig \n"
   ]
  },
  {
   "cell_type": "markdown",
   "metadata": {},
   "source": [
    "# 2 Exercises\n",
    "\n",
    "## 2.1 \n",
    "\n",
    "Vis at \n",
    "\n",
    "$$ \n",
    "\\begin{align}\n",
    "  \\phi(x,t)=\\frac{1}{\\sqrt{4 \\pi D t}} e^{- (x-\\mu)^2 /(4 D t)}\n",
    "\\end{align} \n",
    "$$\n",
    "\n",
    "hvor D er en konstant \n",
    "\n",
    "$$\n",
    "\\begin{align}\n",
    "\\frac{\\partial \\phi (x,t) }{\\partial t}= D \\frac{\\partial^2 \\phi (x,t)}{\\partial x^2}\n",
    "\\end{align}\n",
    "$$\n",
    "\n",
    "Venstre side av ligningen \n",
    "\n",
    "$$\n",
    "\\begin{align}\n",
    "\\frac{\\partial \\phi (x,t)}{\\partial t} &=\\frac{\\partial}{\\partial t}\\frac{1}{\\sqrt{4 \\pi D t}} e^{- (x-\\mu)^2 /(4 D t))} \\\\\n",
    "&=\\frac{1}{\\sqrt{4 \\pi D}}e^{- (x-\\mu)^2 /(4 D t))}\\big[ \\frac{-1/2}{t^{3/2}} + \\frac{(x-\\mu)^2}{4 D t^2} \\big].\n",
    "\\end{align}\n",
    "$$\n",
    "\n",
    "og høyre side blir \n",
    "$$\n",
    "\\begin{align}\n",
    "D \\frac{\\partial^2 \\phi (x,t)}{\\partial x^2}   \\\\\n",
    "&= \\frac{\\partial}{\\partial x} \\frac{-2 (x-mu)}{4 D t}  \\frac{1}{\\sqrt{4 \\pi D t}}  e^{- (x-\\mu)^2 /(4 D t)} \\\\\n",
    "&= D \\frac{1}{\\sqrt{4 \\pi D t}}  e^{- (x-\\mu)^2 /(4 D t)} \\Big[   \n",
    "\\frac{-2}{4 D t} + \\frac{4 (x-\\mu)^2}{4^2 D^2 t^2}\n",
    "\\Big]\n",
    "\\end{align}\n",
    "$$\n",
    "\n",
    "\n",
    "////////////////////////////////////\n",
    "HUSK: \n",
    "- tilde over phi \n",
    "- sjekk om det finnes en bedre måte å skrive e^x på \n",
    "- husk å sjekke komma og punktum \n",
    "\n",
    "\n",
    "\n",
    "## 2.2\n",
    "### 2.2.1\n",
    "\n",
    "La D være en konstant. Start med partikkeldistrubisjonen \n",
    "$$\n",
    "\\begin{align}\n",
    "\\phi(x,0)=\\delta (x-x_0)\n",
    "\\end{align}\n",
    "$$\n",
    "\n",
    "Her kan vi bruke \n",
    "\n",
    "$$\n",
    "\\begin{align}\n",
    "\\delta (x-x_0) = \\frac{1}{2 \\pi} \\int_{-\\infty}^{\\infty} e^{-ik(x-x_0)}dk\n",
    "\\end{align}\n",
    "$$\n",
    "\n",
    "Det gir \n",
    "\n",
    "$$\n",
    "\\begin{align}\n",
    "\\dot{\\phi}(x,t) \\big |_{t=0} &= D \\phi '' (x,t') \\big |_{t'=0} = D \\phi ''(x,0) \\\\\n",
    "&=D \\frac{\\partial^2}{\\partial x^2} \\delta(x-x_0)  \\\\\n",
    "&= D \\frac{1}{2\\pi} \\frac{\\partial^2}{\\partial x^2} \\int_{-\\infty}^{\\infty} e^{-ik(x-x_0)}dk \\\\\n",
    "&= D (-ik)^2  \\frac{1}{2\\pi}  \\int_{-\\infty}^{\\infty} e^{-ik(x-x_0)}dk  \\\\\n",
    "&= -Dk^2 \\phi (x,0)\n",
    "\\end{align}\n",
    "$$\n",
    "\n",
    "Dette gir at for hver gang $\\phi$ tidsderiveres detter ut faktor $-Dk^2$. \n",
    "\n",
    "Dette kan generaliseres til at \n",
    "$$\n",
    "\\begin{align}\n",
    "\\big ( \\frac{\\partial}{\\partial t} \\big )^{n} \\phi (x,t) \\big |_{t=0} = (-Dk^2)^n \\phi(x,t)\n",
    "\\end{align}\n",
    "$$\n",
    "\n",
    "\n",
    "\n",
    "\n",
    "Dette kan brukes i taylor utviklingen\n",
    "\n",
    "$$\n",
    "\\begin{align}\n",
    "\\phi (x,t) &= \\phi (x,0) + \\sum_{n=1}^{\\infty} \\frac{t^n}{n!} \\frac{\\partial^n \n",
    "\\phi(x,t')}{\\partial t'^n } \n",
    "\\Big |_{t'=0}    \\\\\n",
    "&=\\phi(x,0)+ \\sum_{n=1}^{\\infty} \\frac{ (-Dk^2t)^n}{n!} \\\\\n",
    "&= \\phi (x,0) e^{-Dk^2t}  \\\\\n",
    "&= \\frac{1}{2 \\pi} \\int_{- \\infty}^{\\infty} e^{-Dk^2t}e^{-ik(x-x_0}\n",
    "\\end{align}\n",
    "$$\n",
    "\n",
    "\n",
    "\n",
    "## Husk fiks utregning av integral, skal bli \n",
    "\n",
    "$$\n",
    "\\begin{align}\n",
    "\\phi(x,t)= \\frac{1}{4\\pi D t} e^{- \\frac{(x-x_0)^2}{4Dt} }\n",
    "\\end{align}\n",
    "$$\n"
   ]
  },
  {
   "cell_type": "markdown",
   "metadata": {},
   "source": [
    "# Oppgave 3"
   ]
  },
  {
   "cell_type": "code",
   "execution_count": 2,
   "metadata": {},
   "outputs": [
    {
     "name": "stdout",
     "output_type": "stream",
     "text": [
      "(-0.078, 10.089098869572048)\n"
     ]
    },
    {
     "data": {
      "image/png": "[encoded data removed]",
      "text/plain": [
       "<Figure size 432x288 with 1 Axes>"
      ]
     },
     "metadata": {},
     "output_type": "display_data"
    }
   ],
   "source": [
    "#Hvordan skal vi normere? må vi gjøre noe med både x-verdiene og y-verdiene?\n",
    "#Skjedde mye rart da jeg skulle prøve å plotte med normalfordeling i samme plot...\n",
    "#får ikke til å skalere\n",
    "\n",
    "\n",
    "import random\n",
    "import numpy as np\n",
    "import matplotlib.pyplot as plt\n",
    "from scipy.stats import norm\n",
    "import math\n",
    "\n",
    "\n",
    "\n",
    "\n",
    "n=1000  #antall partikler\n",
    "t=100  #antall tidssteg\n",
    "\n",
    "#returnerer -1 for skritt mot venstre, og 1 for skritt mot høyre\n",
    "#P er sannsynligheten for skritt mot venstre (for å kunne bruke i alle oppgaver)\n",
    "def generateRandomStep(P): \n",
    "    randomNumber=random.randint(1,10000)/10000\n",
    "    if randomNumber<=P:\n",
    "        return -1\n",
    "    else:\n",
    "        return 1\n",
    "\n",
    "#returnerer 1 partikkels posisjon etter t tilfeldige skritt\n",
    "def randomParticlePosition(t,P): \n",
    "    pos=0\n",
    "    for i in range(t):\n",
    "        step=generateRandomStep(P)\n",
    "        pos+=step\n",
    "    return pos\n",
    "\n",
    "#plotter tilfeldige posisjoner for n antall partikler\n",
    "#Kan bare ende på partall antall steg,så kan evt bare plotte dette (ikke odetall, blir da kurve ikke brått opp og ned graf)\n",
    "def plotMultipleParticlesPos(n,t):\n",
    "    xList=np.arange(-t,t,1)\n",
    "    posList=[0]*t*2      #liste for antall partikler per posisjon\n",
    "    listOfPositions=[]\n",
    "    for i in range(n):           #for n partikler\n",
    "        pos=randomParticlePosition(t,0.5)   #finner posisjon til partikkelen\n",
    "        listOfPositions.append(pos)\n",
    "        \n",
    "    #print(xList,posList)\n",
    "    #Skalerer listen, fordi total sannsynlighet må jo være 1\n",
    "\n",
    "    parameters=norm.fit(listOfPositions) #normalfordeling tilpasset dataene\n",
    "    print(parameters)\n",
    "    fitted_pdf = norm.pdf(xList,loc = parameters[0],scale = parameters[1])\n",
    "    plt.plot(xList,fitted_pdf,\"red\") #normalfordelingskurve\n",
    "    plt.hist(listOfPositions,density=True,bins=20)  #plotter dataene\n",
    "    plt.show()\n",
    "    #print(fitted_pdf)\n",
    "        \n",
    "plotMultipleParticlesPos(n,t)"
   ]
  },
  {
   "cell_type": "markdown",
   "metadata": {},
   "source": [
    "# Oppgave 5 "
   ]
  },
  {
   "cell_type": "code",
   "execution_count": 91,
   "metadata": {},
   "outputs": [],
   "source": [
    "import scipy.constants\n",
    "\n",
    "k=0.5*scipy.constants.eV #hva skal vi sette denne?\n",
    "T0=273+37\n",
    "kb=scipy.constants.k\n",
    "beta=1/(kb*T0) #??\n",
    "h=1 #skrittlengde\n",
    "t=100\n",
    "n=1000\n",
    "\n",
    "#Definerer potensialene\n",
    "\n",
    "def V1(x):\n",
    "    return k*x\n",
    "\n",
    "def V2(x):\n",
    "    if x>-3*h or x<3*h:\n",
    "        return k\n",
    "    else:\n",
    "        return 0\n",
    "    \n",
    "def V3(x):\n",
    "    if x<-3*h:\n",
    "        return -k\n",
    "    elif x>3*h:\n",
    "        return k\n",
    "    else:\n",
    "        return k*(-1+2*((x+3*h)/6*h))\n",
    "    \n",
    "     \n",
    "    \n",
    "def plotParticlePositionInPotential(k,beta,h,n,t,V):\n",
    "    xList=[]\n",
    "    for x in range(-100,100): #liste for posisjon\n",
    "        xList.append(x)\n",
    "    posList=[0]*2*t      #liste for antall partikler per posisjon\n",
    "    for i in range(n):#for n partikler\n",
    "        pos=0\n",
    "        for j in range(t): #t antall skritt\n",
    "            PdivP=math.exp(-beta*(V(pos-h)-V(pos+h)))\n",
    "            P=PdivP/(1+PdivP)\n",
    "            #if j%10==0:\n",
    "                #print(P)\n",
    "            step=generateRandomStep(P)\n",
    "            pos+=step\n",
    "        #print(pos)\n",
    "        #print(len(posList))\n",
    "        #print(pos+100)\n",
    "        posList[pos+100]+=1 #legger til en til partikkel på posisjonen\n",
    "    #Skalerer listen, fordi total sannsynlighet må jo være 1\n",
    "    scaledPosList= [i/sum(posList) for i in posList]\n",
    "    #print(scaledPosList)\n",
    "    plt.xlim=(-50,50)\n",
    "    plt.plot(xList,scaledPosList,\"red\")  #plotter dataene\n",
    "    plt.show()"
   ]
  },
  {
   "cell_type": "markdown",
   "metadata": {},
   "source": [
    "## 5.1"
   ]
  },
  {
   "cell_type": "code",
   "execution_count": 92,
   "metadata": {},
   "outputs": [
    {
     "name": "stdout",
     "output_type": "stream",
     "text": [
      "2.3364429142421445e+20\n"
     ]
    },
    {
     "data": {
      "image/png": "[encoded data removed]",
      "text/plain": [
       "<Figure size 432x288 with 1 Axes>"
      ]
     },
     "metadata": {},
     "output_type": "display_data"
    }
   ],
   "source": [
    "print(beta)\n",
    "\n",
    "plotParticlePositionInPotential(k,beta,h,n,t,V1)\n"
   ]
  },
  {
   "cell_type": "markdown",
   "metadata": {},
   "source": [
    "## 5.2"
   ]
  },
  {
   "cell_type": "code",
   "execution_count": 93,
   "metadata": {
    "scrolled": true
   },
   "outputs": [
    {
     "data": {
      "image/png": "[encoded data removed]",
      "text/plain": [
       "<Figure size 432x288 with 1 Axes>"
      ]
     },
     "metadata": {},
     "output_type": "display_data"
    }
   ],
   "source": [
    "\n",
    "plotParticlePositionInPotential(k,beta,h,n,t,V2)"
   ]
  },
  {
   "cell_type": "markdown",
   "metadata": {},
   "source": [
    "## 5.3 "
   ]
  },
  {
   "cell_type": "code",
   "execution_count": 94,
   "metadata": {
    "scrolled": true
   },
   "outputs": [
    {
     "data": {
      "image/png": "[encoded data removed]",
      "text/plain": [
       "<Figure size 432x288 with 1 Axes>"
      ]
     },
     "metadata": {},
     "output_type": "display_data"
    }
   ],
   "source": [
    "plotParticlePositionInPotential(k,beta,h,n,t,V3)"
   ]
  },
  {
   "cell_type": "markdown",
   "metadata": {},
   "source": [
    "# Oppgave 7"
   ]
  },
  {
   "cell_type": "code",
   "execution_count": 95,
   "metadata": {},
   "outputs": [
    {
     "data": {
      "image/png": "[encoded data removed]",
      "text/plain": [
       "<Figure size 432x288 with 1 Axes>"
      ]
     },
     "metadata": {},
     "output_type": "display_data"
    },
    {
     "data": {
      "image/png": "[encoded data removed]",
      "text/plain": [
       "<Figure size 432x288 with 1 Axes>"
      ]
     },
     "metadata": {},
     "output_type": "display_data"
    },
    {
     "data": {
      "image/png": "[encoded data removed]",
      "text/plain": [
       "<Figure size 432x288 with 1 Axes>"
      ]
     },
     "metadata": {},
     "output_type": "display_data"
    }
   ],
   "source": [
    "h=1\n",
    "dt=1\n",
    "L=50\n",
    "Cc=0.07*scipy.constants.e     ##*10**6 M står for mol og ikke Mega\n",
    "\n",
    "t=500\n",
    "\n",
    "\n",
    "\n",
    "\n",
    "V0=1/beta \n",
    "V0_Na=V0 \n",
    "V0_K=V0\n",
    "\n",
    "x0=L/4\n",
    "t0=0\n",
    "NaB0=1450   #skriver B for utenfor cellen, og A for innenfor\n",
    "KB0=50\n",
    "NaA0=60\n",
    "KA0=1400\n",
    "\n",
    "def V_Na1(x,Vt):                                                              ##litt usikker på verdier her \n",
    "    if x>=-h and x<=h:\n",
    "        return V0_Na+Vt  #lineær overgang mellom utsiden og innsiden    \n",
    "    elif x<-h:\n",
    "        return Vt\n",
    "    else:\n",
    "        return 0\n",
    "\n",
    "    \n",
    "def V_K1(x,Vt):\n",
    "    if x>=-h and x<=h:\n",
    "        return V0_K+Vt\n",
    "    elif x<-h:\n",
    "        return Vt\n",
    "    else:\n",
    "        return 0\n",
    "    \n",
    "\n",
    "def randomWalkPotential(V_Na,V_K): #hvilke parametere bør tas inn?\n",
    "    NaPos=[-x0]*NaB0+[x0]*NaA0  #liste over posisjon til hver Na-partiklene\n",
    "    #legger til riktig antall utenfor og inni cellen\n",
    "    KPos=[-x0]*KB0+[x0]*KA0   #liste over posisjon til hver K-partikkel\n",
    "    tList=np.arange(0,t,1)   #liste med tidsverdier\n",
    "    #QB=KB0+NaB0  #ladning utenfor    \n",
    "    \n",
    "    \n",
    "    #ladning inni cellen (ved start):\n",
    "    QA=KA0+NaA0*scipy.constants.e                            #husk at hver partikkel representerer 0.1mM\n",
    "    partIn=KA0+NaA0                                          #antall partikler på innsiden \n",
    "    #Q_plus=abs(QA-QB)\n",
    "    \n",
    "    #antall K- og Na- partikler utenfor og innenfor cellen\n",
    "    KA=KA0\n",
    "    NaA=NaA0\n",
    "    KB=KB0   #trengs disse egt? tror de er konstante\n",
    "    NaB=NaB0\n",
    "    \n",
    "    VtList=[]                \n",
    "    \n",
    "    #plt.hist(NaPos,bins=50)\n",
    "    #plt.show()\n",
    "    #plt.hist(KPos,bins=50)\n",
    "    #plt.show()\n",
    "    \n",
    "    for i in range(t):\n",
    "        #regner ut potensialet V(t)\n",
    "        Vt=QA/Cc*scipy.constants.e\n",
    "        Vt=partIn*0.1e-3*scipy.constants.eV              ##bruker dette istedet, partIn= antall partikkler på insiden, se hint oppg 7.1 \n",
    "        Vt=partIn*0.1*0.001/0.07\n",
    "        \n",
    "        VtList.append(Vt)   \n",
    "        \n",
    "        #print(\"Vt\",Vt,\"partIn\",partIn)\n",
    "        #print(NaPos)\n",
    "        \n",
    "        #Na-partiklene:\n",
    "        for j in range(len(NaPos)):\n",
    "                try:\n",
    "                    PdivP_Na=math.exp(-beta*(V_Na(NaPos[j]-h,Vt)-V_Na(NaPos[j]+h,Vt))) #Hvilket potensial skal her?\n",
    "                except: \n",
    "                    print(\":(\")\n",
    "                    print(\"beta:\",beta,\"V_Na(NaPos[j]-h,Vt):\",V_Na(NaPos[j]-h,Vt),\"V_Na(NaPos[j]+h,Vt):\",V_Na(NaPos[j]+h,Vt))\n",
    "                    print(\"NaPos[j]+h\",NaPos[j]+h)\n",
    "                P_Na=PdivP_Na/(1+PdivP_Na)\n",
    "                step=generateRandomStep(P_Na)\n",
    "                NaPos[j]+=step\n",
    "        \n",
    "        #For K-partiklene\n",
    "        for k in range(len(KPos)):\n",
    "                try:\n",
    "                    PdivP_K=math.exp(-beta*(V_K(KPos[k]-h,Vt)-V_K(KPos[k]+h,Vt))) \n",
    "                except:\n",
    "                    print(\"feil i for k in range(len(KPos)) \")\n",
    "                P_K=PdivP_K/(1+PdivP_K)\n",
    "                step=generateRandomStep(P_K)\n",
    "                KPos[k]+=step\n",
    "\n",
    "        \n",
    "        #regner ut antall partikler inni cellen\n",
    "        KA=0    #la på dette\n",
    "        NaA=0   #og dette\"\n",
    "        #print(KPos)\n",
    "        \n",
    "        #for å finne ut total ladning inni cellen\n",
    "        for K in KPos:\n",
    "            if K<-h:\n",
    "                KA+=1       #pluss i stedet for minus er det ikke\n",
    "                #print(\"hei\")\n",
    "        #print(NaPos)\n",
    "        #print(QA)\n",
    "        for Na in NaPos:\n",
    "            #print(Na)\n",
    "            if Na<-h:\n",
    "                NaA+=1      #pluss i stedet for minus er det ikke\n",
    "                #print(\"hei\")\n",
    "        QA=(KA+NaA)*scipy.constants.e\n",
    "        partIn=KA+NaA\n",
    "        \n",
    "        #print(QA)\n",
    "        #print(Q_plus)\n",
    "        #print(KA,NaA)\n",
    "        \n",
    "        #if (t%50==0):\n",
    "             #plt.hist(NaPos,bins=50)\n",
    "             #plt.show()\n",
    "             #plt.hist(KPos,bins=50)\n",
    "             #plt.show()\n",
    "                \n",
    "  \n",
    "\n",
    "        \n",
    "        \n",
    "        \n",
    "        \n",
    "        \n",
    "    plt.hist(NaPos,bins=50)\n",
    "    #plt.ylim(0,10)\n",
    "    plt.show()\n",
    "    plt.hist(KPos,bins=50)\n",
    "    plt.show()\n",
    "    \n",
    "    plt.plot(tList,VtList)\n",
    "    #print(Vt)\n",
    "\n",
    "    \n",
    "\n",
    "randomWalkPotential(V_Na1,V_K1)\n",
    "        \n",
    "        "
   ]
  },
  {
   "cell_type": "markdown",
   "metadata": {},
   "source": [
    "#oppgave 8"
   ]
  },
  {
   "cell_type": "code",
   "execution_count": null,
   "metadata": {},
   "outputs": [],
   "source": []
  },
  {
   "cell_type": "code",
   "execution_count": null,
   "metadata": {},
   "outputs": [],
   "source": []
  }
 ],
 "metadata": {
  "kernelspec": {
   "display_name": "Python 3",
   "language": "python",
   "name": "python3"
  },
  "language_info": {
   "codemirror_mode": {
    "name": "ipython",
    "version": 3
   },
   "file_extension": ".py",
   "mimetype": "text/x-python",
   "name": "python",
   "nbconvert_exporter": "python",
   "pygments_lexer": "ipython3",
   "version": "3.6.5"
  }
 },
 "nbformat": 4,
 "nbformat_minor": 2
}
