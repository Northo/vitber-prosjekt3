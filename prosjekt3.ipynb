{
 "cells": [
  {
   "cell_type": "markdown",
   "metadata": {},
   "source": [
    "# TMA4320 Introduksjon til vitenskapelige beregninger\n",
    "\n"
   ]
  },
  {
   "cell_type": "markdown",
   "metadata": {},
   "source": [
    "# Liten git guide\n",
    "\n",
    "## NB husk cell-> All output ->clear\n",
    "\n",
    "åpne cmd\n",
    "bruk cd (change directory) for å åpne mappen (>>cd FILPLASSERING)\n",
    "for å 'pushe' (laste opp endringer du har gjort):\n",
    "- git add FILNAVN  ( prosjekt3.ipynb)\n",
    "- git commit -m \"her kan du skive en liten commit meliding\"\n",
    "- git pull  \n",
    "- git push\n",
    "\n",
    "\n",
    "## Merge error\n",
    "Hvis du får opp at det står conflict når du forsøket å bruke git pull skyldes dette at vi begge har redigert på det samme og vi må bestemme hva vi skal beholde. Når man bruker git pull legges begge endringene inn i fila, og man må gå inn å redigere hvem man skal beholde og hvem man skal slette. \n",
    "Eksempel:\n",
    "fra før sto det t=100.\n",
    "hvis den andre allerede har endret til t=200, men du prøvde å endre til t=300 vil fila se ca sånn ut etter å ha bruk git pull.\n",
    "\n",
    "    \"t=200   \n",
    "\n",
    "\n",
    "problemet er at nar dette er lagt til får man ikke åpnet fila i jupyter notebook. Visual Studio fingerer derimot fint. Så åpne fila å slett det som ikke skal være der. Slik at det f.eks. står \n",
    "t=300 \n",
    "\n",
    "Hvis du puller å får merge conflict må du bare: \n",
    "- Åpne fila i Visual Studio og rediger \n",
    "- git add\n",
    "- git commit \n",
    "- git push "
   ]
  },
  {
   "cell_type": "markdown",
   "metadata": {},
   "source": [
    "# 2 Exercises\n",
    "\n",
    "## 2.1 \n",
    "\n",
    "Vis at \n",
    "\n",
    "$$ \n",
    "\\begin{align}\n",
    "  \\tilde{\\phi}(x,t)=\\frac{1}{\\sqrt{4 \\pi D t}} e^{- \\frac{(x-\\mu)^2 }{4 D t}}\n",
    "\\end{align} \n",
    "$$\n",
    "\n",
    "hvor D er en konstant oppfyller difusjonsligningen \n",
    "\n",
    "$$\n",
    "\\begin{align}\n",
    "\\frac{\\partial \\phi (x,t) }{\\partial t}= D \\frac{\\partial^2 \\phi (x,t)}{\\partial x^2}.\n",
    "\\end{align}\n",
    "$$\n",
    "\n",
    "\n",
    "La oss først se på den tidsderiverte av $\\tilde{\\phi}$\n",
    "$$\n",
    "\\begin{align}\n",
    "\\frac{\\partial \\tilde{\\phi} (x,t)}{\\partial t} &=\\frac{\\partial}{\\partial t}\\frac{1}{\\sqrt{4 \\pi D t}} e^{- \\frac{(x-\\mu)^2 }{4 D t}} \\\\\n",
    "&=  \\Big ( \\frac{\\partial}{\\partial t} \\frac{1}{\\sqrt{4 \\pi D t}} \\Big )  e^{- \\frac{(x-\\mu)^2 }{4 D t}}\n",
    "+ \\frac{1}{\\sqrt{4 \\pi D t}}  \\Big ( \\frac{\\partial}{\\partial t}  e^{- \\frac{(x-\\mu)^2 }{4 D t}} \\Big )  \\\\\n",
    "&=\\frac{1}{\\sqrt{4 \\pi D t}}e^{- \\frac{(x-\\mu)^2 }{4 D t}}\\Big[ \\frac{-1/2}{t} + \\frac{(x-\\mu)^2}{4 D t^2} \\Big].\n",
    "\\end{align}\n",
    "$$\n",
    "\n",
    "Vidre ser vi på den dobbelt deriverte mhp. x. \n",
    "$$\n",
    "\\begin{align}\n",
    " \\frac{\\partial^2 \\tilde{\\phi} (x,t)}{\\partial x^2} &=\\frac{\\partial^2 }{\\partial x^2} \\frac{1}{\\sqrt{4 \\pi D t}} e^{- \\frac{(x-\\mu)^2 }{4 D t}}  \\\\\n",
    "&= \\frac{\\partial}{\\partial x} \\Big ( \\frac{-2 (x-mu)}{4 D t}  \\frac{1}{\\sqrt{4 \\pi D t}}  e^{- \\frac{(x-\\mu)^2 }{4 D t}} \\Big )\\\\\n",
    "&= \\frac{1}{\\sqrt{4 \\pi D t}}  e^{- \\frac{(x-\\mu)^2 }{4 D t}} \\Big[   \n",
    "\\frac{-2}{4 D t} + \\frac{4 (x-\\mu)^2}{4^2 D^2 t^2}\n",
    "\\Big]\n",
    "\\end{align}\n",
    "$$\n",
    "\n",
    "Det kan nå lett ses at høyreside av diffusjonsligningen blir\n",
    "$$\n",
    "\\begin{align}\n",
    "D \\frac{\\partial^2 \\tilde{\\phi} (x,t)}{\\partial x^2} =\\frac{1}{\\sqrt{4 \\pi D t}}e^{- \\frac{(x-\\mu)^2 }{4 D t}}\\Big[ \\frac{-1/2}{t} + \\frac{(x-\\mu)^2}{4 D t^2} \\Big],\n",
    "\\end{align}\n",
    "$$\n",
    "som er lik den tidseriverte av $\\tilde{\\phi}$ og dermed at funskjonen oppfyller diffusjonsligningen.  \n",
    "\n",
    "\n",
    "////////////////////////////////////\n",
    "HUSK: \n",
    "- tilde over phi \n",
    "- sjekk om det finnes en bedre måte å skrive e^x på \n",
    "- husk å sjekke komma og punktum "
   ]
  },
  {
   "cell_type": "markdown",
   "metadata": {},
   "source": [
    "## 2.2\n",
    "### 2.2.1\n",
    "\n",
    "La D være en konstant og start med partikkeldistrubisjonen \n",
    "$$\n",
    "\\begin{align}\n",
    "\\phi(x,0)=\\delta (x-x_0).\n",
    "\\end{align}\n",
    "$$\n",
    "\n",
    "Her kan vi bruke at \n",
    "\n",
    "$$\n",
    "\\begin{align}\n",
    "\\delta (x-x_0) = \\frac{1}{2 \\pi} \\int_{-\\infty}^{\\infty} e^{-ik(x-x_0)}dk.\n",
    "\\end{align}\n",
    "$$\n",
    "\n",
    "Det gir at\n",
    "\n",
    "$$\n",
    "\\begin{align}\n",
    "\\frac{\\partial}{\\partial t}\\phi(x,t) \\big |_{t=0} &= D \\frac{\\partial^2}{\\partial x^2} \\phi (x,t') \\big |_{t'=0} = D \\phi \\frac{\\partial^2}{\\partial x^2}(x,0) \\\\\n",
    "&=D \\frac{\\partial^2}{\\partial x^2} \\delta(x-x_0)  \\\\\n",
    "&= D \\frac{1}{2\\pi} \\frac{\\partial^2}{\\partial x^2} \\int_{-\\infty}^{\\infty} e^{-ik(x-x_0)}dk \\\\\n",
    "&= D (-ik)^2  \\frac{1}{2\\pi}  \\int_{-\\infty}^{\\infty} e^{-ik(x-x_0)}dk  \\\\\n",
    "&= -Dk^2 \\phi (x,0)\n",
    "\\end{align}\n",
    "$$\n",
    "\n",
    "Dette gir at for hver gang $\\phi$ tidsderiveres detter ut faktor $-Dk^2$. \n",
    "\n",
    "Dette kan generaliseres til at \n",
    "$$\n",
    "\\begin{align}\n",
    "\\big ( \\frac{\\partial}{\\partial t} \\big )^{n} \\phi (x,t) \\big |_{t=0} = (-Dk^2)^n \\phi(x,t)\n",
    "\\end{align}\n",
    "$$\n",
    "\n",
    "For å finne $\\phi(x,t)$ kan vi så se på Taylor utvikling av funskjonen. \n",
    "\n",
    "\n",
    "Dette kan brukes i taylor utviklingen\n",
    "\n",
    "$$\n",
    "\\begin{align}\n",
    "\\phi (x,t) &= \\phi (x,0) + \\sum_{n=1}^{\\infty} \\frac{t^n}{n!} \\frac{\\partial^n \n",
    "\\phi(x,t')}{\\partial t'^n } \n",
    "\\Big |_{t'=0}    \\\\\n",
    "&=\\phi(x,0)+ \\sum_{n=1}^{\\infty} \\frac{ (-Dk^2t)^n}{n!} \\phi(x,0) \\\\\n",
    "&= \\phi (x,0) e^{-Dk^2t}  \\\\\n",
    "&= \\frac{1}{2 \\pi} \\int_{- \\infty}^{\\infty} e^{-Dk^2t}e^{-ik(x-x_0}) dk\n",
    "\\end{align}\n",
    "$$"
   ]
  },
  {
   "cell_type": "markdown",
   "metadata": {},
   "source": [
    "En måte å løse dette integralet på er Fourier trasnformasjon. \n",
    "$$\n",
    "\\begin{align}\n",
    "\\hat{f}(w)= \\frac{1}{\\sqrt{2 \\pi}} \\int_{-\\infty}^{\\infty} f(z)  e^{-iwz}dz.\n",
    "\\end{align}\n",
    "$$\n",
    "\n",
    "Legg merke til at vis vi bytter variabler slik at $w=\\tilde{x}=x-x_0$ og $z=k$, og lar $f$ også være avhengig av $t$ får vi\n",
    "$$\n",
    "\\begin{align}\n",
    "\\hat{f}(\\tilde{x},t)= \\frac{1}{\\sqrt{2 \\pi}} \\int_{-\\infty}^{\\infty} f(k,t)  e^{-i\\tilde{x}k}dk.\n",
    "\\end{align}\n",
    "$$\n",
    "\n",
    "Ved å sette $f(k,t)=\\frac{1}{\\sqrt{2\\pi}} e^{-Dtk^2}$ får vi \n",
    "$$\n",
    "\\phi(x,t)= \\hat{f}(\\tilde{x},t)= \\frac{1}{\\sqrt{2 \\pi}} \\int_{-\\infty}^{\\infty} f(k,t)  e^{-i\\tilde{x}k}dk.\n",
    "$$\n",
    "\n",
    "# kilde her????\n",
    "Det er kjent at   \n",
    "$$\n",
    "\\begin{align}\n",
    "f(x)=e^{-ax^2} \\Longleftrightarrow \\hat{f}(w)=\\frac{1}{\\sqrt{2a}}e^{-\\frac{w^2}{4a} }. \n",
    "\\end{align}\n",
    "$$\n",
    "\n",
    "Ved sammenligning ser vi da at \n",
    "$$\n",
    "\\begin{align}\n",
    "\\phi(x,t) &= \\hat{f}(\\tilde{x},t)= \\frac{1}{\\sqrt{2\\pi}} \\frac{1}{\\sqrt{2Dt}} e^{-\\frac{\\tilde{x}^2}{4Dt}}\n",
    "= \\frac{1}{\\sqrt{4\\pi Dt}} e^{-\\frac{(x-x_0)^2}{4Dt}}\n",
    "\\end{align}\n",
    "$$\n",
    "\n"
   ]
  },
  {
   "cell_type": "markdown",
   "metadata": {},
   "source": [
    "### 2.2.2\n",
    "\n",
    "Ved å studere resultatet fra oppgave 2.2.1 kan det ses at $D$ påvirker størrelsen av faktoren $4Dt$, og at den derfor vil si noe om hvor raskt systemet ender seg. Ved t=0 ser man at det kun er i $x=x_0$ at eksponenten er 0 og at uttrykket går mot $\\infty$, for alle andre $x\\neq x_0$ går eksponeneten mot $-\\infty$ og utrykket mot 0. Dette skjer kun ved $t=0$, for t=0 ser man at uttrykket endrer seg slik at $\\phi(x,t)$ flater seg ut. \n",
    "\n",
    "$\\phi(x,t)$ fra oppgave 2.2.1 er en normalfordeling der variansen $\\sigma^2=4Dt$. Variansen sier noe om spredningen av partikklene, slik at $D$ sier noe om hvor raskt spredningen endres. Jo større $D$ jo raskere spres partikklene. "
   ]
  },
  {
   "cell_type": "markdown",
   "metadata": {},
   "source": [
    "### 2.2.3 \n",
    "\n"
   ]
  },
  {
   "cell_type": "markdown",
   "metadata": {},
   "source": [
    "# Oppgave 3\n",
    "\n",
    "I koden nedenfor simuleres \"random walk\" i 1D. Dette gjøres ved å for hvert tidsintervall $\\Delta t$ bestemme tilfeldig om en partikkel skal gå et steg til venstre eller ett steg til høyre. Her er det antatt at alle steg er like lange $h=1$, og partikkelen må gå enten til høyre, eller til venstre og kan ikke stå i ro. \n",
    "\n",
    "## Kodeforklaring \n",
    "\n",
    "For å velge om en partikkel går mot høyre eller venstre brukes funskjonen generateRandomStep() som tar inn sannmsynligheten, P, for at en partikkel går mot venstre. Denne er generell og brukes i senere oppgaver, men i denne oppgaven setter P= 0.5, slik at begge retninger er like sannsynlig. Funksjonen genererer et tilfeldig flytall mellom null og én ved bruk av funsksjonen random() fra random biblioteket. Funksjonen returnener -1 om der tilfeldige tallet er mindre enn P, og 1 om det er større.\n",
    "\n",
    "Funskjonen randomParticlePosition() tar inn sannsynligheten for at en partikkel beveger seg mot venstre og antall steg per partikkel, n. Funkjsonen lar partikkelen starte i pos=0 og ved hjelp av generateRandomStep() plusser den på eller trekker fra 1 for hvert tilfeldige sted. Etter n antall steg returneres posisjonen. \n",
    "\n",
    "Alle partiklene slippes i i punktet $x=0$. Funksjonen plotMultipleParticlePos tar inn antall partikler, n, som skal slippes og hvor mange steg, t (hvor mange tidsintervall), hver av partiklene skal ta. I funskjonen oprettes en hvor sluttposisjonen til hver partikkel skal lagres. For hver partikkel brukes til funskjonen randomPariclePosition til å finne en tilfeldig posisjon for hver partikkel, basert på forklaringen ovenfor, og denne posisjonen lagres så i listen med posisjoner. Til slutt plottes posisjonene i et histogram, slik at høyden på hver søyle representerer andel partikkler. "
   ]
  },
  {
   "cell_type": "code",
   "execution_count": 1,
   "metadata": {},
   "outputs": [
    {
     "name": "stdout",
     "output_type": "stream",
     "text": [
      "(0.402, 9.949994773867974)\n"
     ]
    },
    {
     "data": {
      "text/plain": [
       "<Figure size 640x480 with 1 Axes>"
      ]
     },
     "metadata": {},
     "output_type": "display_data"
    }
   ],
   "source": [
    "#Hvordan skal vi normere? må vi gjøre noe med både x-verdiene og y-verdiene?\n",
    "#Skjedde mye rart da jeg skulle prøve å plotte med normalfordeling i samme plot...\n",
    "#får ikke til å skalere\n",
    "\n",
    "\n",
    "import random\n",
    "import numpy as np\n",
    "import matplotlib.pyplot as plt\n",
    "from scipy.stats import norm\n",
    "import math\n",
    "\n",
    "\n",
    "\n",
    "\"\"\"hjelpefunksjon for plotting av histogram\"\"\"\n",
    "\n",
    "def plotParameters(posList):\n",
    "    numOfPos=round(max(posList)-min(posList))+1 \n",
    "    if numOfPos%2==0:\n",
    "        numOfBins=numOfPos//2\n",
    "        hmin=min(posList)-0.5\n",
    "        hmax=max(posList)+0.5\n",
    "    else: \n",
    "        numOfBins=numOfPos//2+1\n",
    "        hmin=min(posList)-1\n",
    "        hmax=max(posList)+1\n",
    "    return  numOfBins, hmin, hmax\n",
    "\n",
    "\n",
    "\n",
    "n=1000  #antall partikler\n",
    "t=100   #antall tidssteg\n",
    "\n",
    "#returnerer -1 for skritt mot venstre, og 1 for skritt mot høyre\n",
    "#P er sannsynligheten for skritt mot venstre (for å kunne bruke i alle oppgaver)\n",
    "def generateRandomStep(P): \n",
    "    randomNumber=random.random()\n",
    "    if randomNumber<=P:\n",
    "        return -1\n",
    "    else:\n",
    "        return 1\n",
    "\n",
    "#returnerer 1 partikkels posisjon etter t tilfeldige skritt\n",
    "def randomParticlePosition(t,P): \n",
    "    pos=0\n",
    "    for i in range(t):\n",
    "        step=generateRandomStep(P)\n",
    "        pos+=step\n",
    "    return pos\n",
    "\n",
    "#plotter tilfeldige posisjoner for n antall partikler\n",
    "#Kan bare ende på partall antall steg,så kan evt bare plotte dette (ikke odetall, blir da kurve ikke brått opp og ned graf)\n",
    "def plotMultipleParticlesPos(n,t):\n",
    "    listOfPositions=[]\n",
    "    for i in range(n):           #for n partikler\n",
    "        pos=randomParticlePosition(t,0.5)   #finner posisjon til partikkelen\n",
    "        listOfPositions.append(pos)\n",
    "    xList = np.arange(min(listOfPositions),max(listOfPositions),1)    \n",
    " \n",
    "    #Skalerer listen, fordi total sannsynlighet må jo være 1\n",
    "\n",
    "    parameters=norm.fit(listOfPositions) #normalfordeling tilpasset dataene\n",
    "    print(parameters)\n",
    "    fitted_pdf = norm.pdf(xList,loc = parameters[0],scale = parameters[1])\n",
    "    \n",
    "  \n",
    "    numberOfBins, hmin, hmax = plotParameters(listOfPositions) \n",
    "    plt.plot(xList,fitted_pdf,\"red\",label='tilpasset normalfordeling') #normalfordelingskurve\n",
    "    plt.hist(listOfPositions,density=True,bins=numberOfBins,range=(hmin,hmax),label='simulert partikkelfordeling')  #plotter dataene\n",
    "    plt.title(\"Figur 1: Random walk i 1D med V=0\")\n",
    "    plt.ylabel(\"Andel partikkler\")\n",
    "    plt.xlabel(\"x\")\n",
    "    plt.legend()\n",
    "    plt.show()\n",
    "    #print(fitted_pdf)\n",
    "        \n",
    "plotMultipleParticlesPos(n,t)\n",
    "\n"
   ]
  },
  {
   "cell_type": "markdown",
   "metadata": {},
   "source": [
    "FIGUR 1: Figuren viser et histogram av andel partikkler per posisjon etter simulert  \"random walk\" i 1D. Den røde grafen viser normalfordeling best mulig tilpasset parikkelenes posisjon. \n",
    "\n",
    "## Forklaring av resultat \n",
    "\n",
    "Figur 1 viser hvordan fordelingen av parikler ble etter simlasjonen kjørt ovenfor. Det kan ses at fordelingen til partiklene til en viss grad stemmer overnens med den tilpassede normalfordelingen. Noen"
   ]
  },
  {
   "cell_type": "code",
   "execution_count": null,
   "metadata": {},
   "outputs": [],
   "source": []
  },
  {
   "cell_type": "markdown",
   "metadata": {},
   "source": [
    "# Oppgave 5 \n",
    "\n",
    "\n",
    "\n"
   ]
  },
  {
   "cell_type": "code",
   "execution_count": 31,
   "metadata": {},
   "outputs": [],
   "source": [
    "import scipy.constants\n",
    "\n",
    "#k=0.05*scipy.constants.eV #hva skal vi sette denne?\n",
    "T0=273+37\n",
    "kb=scipy.constants.k\n",
    "beta=1/(kb*T0) #??\n",
    "h=1 #skrittlengde\n",
    "t=100\n",
    "n=1000\n",
    "\n",
    "k= 3/beta\n",
    "betak= 1\n",
    "\n",
    "#Definerer potensialene\n",
    "\n",
    "def V1(x):\n",
    "    return x\n",
    "\n",
    "def V2(x):\n",
    "    if abs(x)<3*h:  #x>-3*h 3*hor x<3*h:\n",
    "        return 1\n",
    "    else:\n",
    "        return 0\n",
    "    \n",
    "def V3(x):\n",
    "    if x<-3*h:\n",
    "        return -1\n",
    "    elif x>3*h:\n",
    "        return 1\n",
    "    else:\n",
    "        return (-1+2*((x+3*h)/6*h))\n",
    "    \n",
    "     \n",
    "    \n",
    "def plotParticlePositionInPotential(k,beta,h,n,t,V):\n",
    "    posList=[]  #\n",
    "\n",
    "    for i in range(n):#for n partikler\n",
    "        pos=0\n",
    "        for j in range(t): #t antall skritt\n",
    "            PdivP=math.exp(-betak*(V(pos-h)-V(pos+h)))\n",
    "            P=PdivP/(1+PdivP)\n",
    "            step=generateRandomStep(P)\n",
    "            pos+=step\n",
    "        posList.append(pos);\n",
    "    \n",
    "    #print(posList)\n",
    "    \n",
    "    numberOfBins , hmin, hmax = plotParameters(posList);\n",
    "    newHmin=hmin - ((hmin+t)//2)*2\n",
    "    newHmax=hmax + ((t-hmax)//2)*2\n",
    "    print(newHmin,newHmax)\n",
    "    \n",
    "    newNumberOfBins = round(numberOfBins +((hmin+t)//2)+((t-hmax)//2)) \n",
    "    #newNumberOfBins=numberOfBins\n",
    "    \n",
    "    plt.hist(posList, density=True,bins=newNumberOfBins, range=(newHmin,newHmax))\n",
    "    plt.show()\n",
    "    "
   ]
  },
  {
   "cell_type": "markdown",
   "metadata": {},
   "source": [
    "## 5.1"
   ]
  },
  {
   "cell_type": "code",
   "execution_count": 32,
   "metadata": {},
   "outputs": [
    {
     "name": "stdout",
     "output_type": "stream",
     "text": [
      "-99 99\n"
     ]
    },
    {
     "data": {
      "image/png": "[encoded data removed]",
      "text/plain": [
       "<Figure size 432x288 with 1 Axes>"
      ]
     },
     "metadata": {},
     "output_type": "display_data"
    }
   ],
   "source": [
    "plotParticlePositionInPotential(k,beta,h,n,t,V1)\n",
    "\n"
   ]
  },
  {
   "cell_type": "markdown",
   "metadata": {},
   "source": [
    "## 5.2"
   ]
  },
  {
   "cell_type": "code",
   "execution_count": 4,
   "metadata": {
    "scrolled": true
   },
   "outputs": [
    {
     "name": "stdout",
     "output_type": "stream",
     "text": [
      "-99 99\n"
     ]
    },
    {
     "data": {
      "image/png": "[encoded data removed]",
      "text/plain": [
       "<Figure size 432x288 with 1 Axes>"
      ]
     },
     "metadata": {},
     "output_type": "display_data"
    }
   ],
   "source": [
    "\n",
    "plotParticlePositionInPotential(k,beta,h,n,t,V2)"
   ]
  },
  {
   "cell_type": "markdown",
   "metadata": {},
   "source": [
    "## 5.3 "
   ]
  },
  {
   "cell_type": "code",
   "execution_count": 5,
   "metadata": {
    "scrolled": true
   },
   "outputs": [
    {
     "name": "stdout",
     "output_type": "stream",
     "text": [
      "-99 99\n"
     ]
    },
    {
     "data": {
      "image/png": "[encoded data removed]",
      "text/plain": [
       "<Figure size 432x288 with 1 Axes>"
      ]
     },
     "metadata": {},
     "output_type": "display_data"
    }
   ],
   "source": [
    "plotParticlePositionInPotential(k,beta,h,n,t,V3)\n"
   ]
  },
  {
   "cell_type": "markdown",
   "metadata": {},
   "source": [
    "# Oppgave 7\n",
    "\n",
    "\n",
    "Endringer 02.04:\n",
    "-fikset math range error. Tror den rosa \"feilmeldingen\" som kommer nå er ok fordi den bare betyr at det er tall som blir så små at python tolker dem som 0. \n",
    "-gjorde så randomWalkPotential returnerer listen med Vt og tList. Så kan man bruke det til plotting etter å ha kjørt funksjonen. tror det er bra å plotte ting som skal sammenliknes på samme plot, lettere å se forskjellene da. (MEN foreløpig ser jo alt helt likt ut???????)\n",
    "-RandomWalkPotential tar nå inn verdier for V0_Na og V0_K, for å kunne brukes i oppgave 8.\n",
    "-Tror ikke vi trenger å ha med partikkelfordelingene i oppgave 7 og 8 (?) kommenterte det ut\n",
    "-Endret litt på oppgave 7.2 så den faktisk gjør det oppgaveteksten sier heh :))\n",
    "-gjorde om funksjonene til V_Na og V_K til 1 funksjon, som tar inn V0_Na og V0_K (det var jo eneste forskjellen mellom dem...)\n",
    "-ryddet litt her og der, gjerne ta vekk ting du har skrevet som ikke trengs lenger. + kommenterte \n",
    "\n",
    "\n",
    "BURDE KANSKJE GJØRES:\n",
    "-Kan gjøre enda mer felles kode for Na og K, koden for dem er jo nesten lik. Kan feks kanskje lage en funksjon for alt som gjøres i RandomPotential funksjonen (generere steg, oppdatere liste over posisjoner, finne antall partikler inni, slette partikler som går utenfor systemet etc).\n",
    "-Fikse fine, store plot med titler osv litt bedre enn jeg har gjort nå, hvertfall titler og enheter langs aksene osv fiksa bare kjapt\n",
    "-Kommentere koden bedre\n",
    "-Rydde vekk dritt som ikke trengs. Har allerede fjernet flere ubrukte konstanter og parametere, kan godt hende det er enda flere som kan fjernes"
   ]
  },
  {
   "cell_type": "code",
   "execution_count": 102,
   "metadata": {},
   "outputs": [],
   "source": [
    "\"For å få store, tydelige plot\"\n",
    "fontsize = 20\n",
    "newparams = {'axes.titlesize': fontsize, 'axes.labelsize': fontsize,\n",
    "             'lines.linewidth': 2, 'lines.markersize': 7,\n",
    "             'figure.figsize': (16, 5), 'ytick.labelsize': fontsize,\n",
    "             'xtick.labelsize': fontsize, 'legend.fontsize': fontsize,\n",
    "            'legend.handlelength': 1.0}\n",
    "plt.rcParams.update(newparams)\n"
   ]
  },
  {
   "cell_type": "code",
   "execution_count": 103,
   "metadata": {},
   "outputs": [],
   "source": [
    "#definerer konstanter\n",
    "h=1\n",
    "L=50\n",
    "Cc=0.07*scipy.constants.e*scipy.constants.N_A   \n",
    "x0=L/4\n",
    "\n",
    "#Antall Na- og K-partikler ved start\n",
    "NaB0=1450  \n",
    "KB0=50\n",
    "NaA0=60    #skriver B for utenfor cellen, og A for innenfor\n",
    "KA0=1400\n",
    "\n",
    "#Potensialet partiklene føler\n",
    "def V1(x,Vt,Vt_prev,V0):  \n",
    "    if x>=-h and x<=h: #inni cellemembranen\n",
    "        return V0+(Vt/2-(Vt/(2*h))*x)   \n",
    "    elif x<-h: #inni cellen\n",
    "        return Vt\n",
    "    else:  #utenfor cellen\n",
    "        return 0\n",
    "\n",
    "\n",
    "\n",
    "def randomWalkPotential(VNa,VK,nt,NaB0,NaA0,KB0,KA0,V0_Na,V0_K,pump=False): #hvilke parametere bør tas inn?\n",
    "        #antall K- og Na- partikler utenfor og innenfor cellen\n",
    "    KA=KA0\n",
    "    NaA=NaA0\n",
    "    \n",
    "    NaPos=[-x0]*NaA+[x0]*NaB0  #liste over posisjon til hver Na-partiklene\n",
    "    #legger til riktig antall utenfor og inni cellen\n",
    "    KPos=[-x0]*KA+[x0]*KB0   #liste over posisjon til hver K-partikkel\n",
    "    tList=np.arange(0,nt,1)   #liste med tidsverdier\n",
    "    #QB=KB0+NaB0  #ladning utenfor    \n",
    "    \n",
    "    \n",
    "    #ladning inni cellen (A) og utenfor cellen (b) (ved start), samt total ladningsforskjell:\n",
    "    QA=KA0+NaA0\n",
    "    QB=KB0+NaB0\n",
    "    Q=QA-QB \n",
    "    \n",
    "    VtList=[]   #tom liste for å legge potensialverdiene av Vt i              \n",
    "    Vt=Q*(10/7)*1e-3 #potensial Vt ved start\n",
    "    \n",
    "    for i in range(nt):\n",
    "        \n",
    "        #Pumpe, hvis ønsket \n",
    "        if pump==True and t%10==0: #For hvert tiende tidssteg\n",
    "            KA+=2 #2 K-partikler mer inni cellen\n",
    "            NaA-=3  #3 Na-partikler mindre inni cellen\n",
    "        \n",
    "        #regner ut potensialet V(t), og legger til verdien i listen VtList\n",
    "        Vt_prev=Vt   #forrige verdi\n",
    "        Vt=Q*(10/7)*1e-3 #ny verdi\n",
    "        VtList.append(Vt)   \n",
    "\n",
    "        \n",
    "        #For Na-partiklene\n",
    "        NaDeleteIndex=[] #oppretter tom liste for senere bruk\n",
    "        for j in range(len(NaPos)): #ser på en og en Na-partikkel\n",
    "            #finner sannsynligheten for at partikkelen går et steg til venstre\n",
    "                PdivP_Na=np.exp(-beta*(VNa(NaPos[j]-h,Vt,Vt_prev,V0_Na)-VNa(NaPos[j]+h,Vt,Vt_prev,V0_Na))) \n",
    "                P_Na=PdivP_Na/(1+PdivP_Na)\n",
    "            #flytter partikkelen et steg \n",
    "                step=generateRandomStep(P_Na)\n",
    "                NaPos[j]+=step\n",
    "                \n",
    "                #gjør så partikkelen ikke kan gå inn i systemet igjen\n",
    "                if NaPos[j]<(-L/2-2) or NaPos[j]>(L/2+2): #hvis partikkelen utenfor systemet\n",
    "                    NaDeleteIndex.append(j) #lagrer i liste over indekser som skal fjernes\n",
    "        NaDeleteIndex.sort() #sorterer listen\n",
    "        for index in reversed(NaDeleteIndex): #går gjennom lista baklengs for å ikke påvirke senere indekser ved sletting\n",
    "            del NaPos[index] #sletter gjeldende indeks\n",
    "        \n",
    "        #For K-partiklene\n",
    "        KDeleteIndex=[]\n",
    "        for k in range(len(KPos)):\n",
    "                PdivP_K=np.exp(-beta*(VK(KPos[k]-h,Vt,Vt_prev,V0_K)-VK(KPos[k]+h,Vt,Vt_prev,V0_K))) \n",
    "                P_K=PdivP_K/(1+PdivP_K)\n",
    "                step=generateRandomStep(P_K)\n",
    "                KPos[k]+=step\n",
    "                #gjør så partikkelen ikke kan gå inn i systemet igjen\n",
    "                if KPos[k]<(-L/2-2) or KPos[k]>(L/2+2):\n",
    "                    #del KPos[k]\n",
    "                    KDeleteIndex.append(k)\n",
    "        KDeleteIndex.sort()\n",
    "        for index in reversed(KDeleteIndex):\n",
    "            del KPos[index]\n",
    "            \n",
    "\n",
    "        #finner antall K-partikler inni cellen\n",
    "        KA=0\n",
    "        for K in KPos:\n",
    "            if K<-h:\n",
    "                KA+=1  \n",
    "                \n",
    "        #Finner antall Na-partikler inni cellen\n",
    "        NaA=0\n",
    "        for Na in NaPos:\n",
    "            #print(Na)\n",
    "            if Na<-h:\n",
    "                NaA+=1  \n",
    "                \n",
    "        #Finner total ladningsforskjell\n",
    "        Q=(KA+NaA)-QB\n",
    "        \n",
    "    #binsNa,xminNa,xmaxNa=plotParameters(NaPos)\n",
    "    #plt.hist(NaPos,bins=25,range=(-25,25))\n",
    "    #plt.show()\n",
    "    #plt.hist(KPos,bins=25,range=(-25,25))\n",
    "    #plt.show()\n",
    "    #plt.plot(tList,VtList)\n",
    "    #print(VtList[500])\n",
    "    #plt.show()\n",
    "    \n",
    "    return tList,VtList\n",
    "\n",
    "\n",
    "        "
   ]
  },
  {
   "cell_type": "code",
   "execution_count": 110,
   "metadata": {},
   "outputs": [
    {
     "name": "stderr",
     "output_type": "stream",
     "text": [
      "C:\\Users\\krist\\Anaconda3\\lib\\site-packages\\ipykernel_launcher.py:78: RuntimeWarning: invalid value encountered in double_scalars\n",
      "C:\\Users\\krist\\Anaconda3\\lib\\site-packages\\ipykernel_launcher.py:62: RuntimeWarning: invalid value encountered in double_scalars\n"
     ]
    },
    {
     "data": {
      "image/png": "[encoded data removed]",
      "text/plain": [
       "<Figure size 1152x360 with 1 Axes>"
      ]
     },
     "metadata": {},
     "output_type": "display_data"
    }
   ],
   "source": [
    "\n",
    "V0=1/beta\n",
    "nt=600\n",
    "\n",
    "#V0*beta=0\n",
    "tList,VtList0=randomWalkPotential(V1,V1,nt,NaB0,NaA0,KB0,KA0,0,0)\n",
    "#V0*beta=1\n",
    "tList,VtList1=randomWalkPotential(V1,V1,nt,NaB0,NaA0,KB0,KA0,V0,V0)\n",
    "#V0*beta=3\n",
    "tList,VtList3=randomWalkPotential(V1,V1,nt,NaB0,NaA0,KB0,KA0,V0*3,V0*3)\n",
    "\n",
    "\n",
    "#plotter\n",
    "plt.plot(tList,VtList0)\n",
    "plt.plot(tList,VtList1)\n",
    "plt.plot(tList,VtList3)\n",
    "plt.xlabel(\"tid\")\n",
    "plt.ylabel(\"potensiale\")\n",
    "plt.title(\"Potensial per tid, med ulik V0\")\n",
    "plt.show()\n",
    "\n",
    "\n",
    "        "
   ]
  },
  {
   "cell_type": "code",
   "execution_count": null,
   "metadata": {},
   "outputs": [],
   "source": []
  },
  {
   "cell_type": "markdown",
   "metadata": {},
   "source": [
    "oppgave 7.2"
   ]
  },
  {
   "cell_type": "code",
   "execution_count": 109,
   "metadata": {},
   "outputs": [
    {
     "name": "stderr",
     "output_type": "stream",
     "text": [
      "C:\\Users\\krist\\Anaconda3\\lib\\site-packages\\ipykernel_launcher.py:62: RuntimeWarning: invalid value encountered in double_scalars\n",
      "C:\\Users\\krist\\Anaconda3\\lib\\site-packages\\ipykernel_launcher.py:78: RuntimeWarning: invalid value encountered in double_scalars\n"
     ]
    },
    {
     "data": {
      "image/png": "[encoded data removed]",
      "text/plain": [
       "<Figure size 1152x360 with 1 Axes>"
      ]
     },
     "metadata": {},
     "output_type": "display_data"
    }
   ],
   "source": [
    "V01=1/beta #det er verdien over brøkstreken som viser hva beta ganger V0K og V0Na er\n",
    "#og det er jo de oppgaven oppgir verdier vi skal sette dem.\n",
    "V02=10/beta\n",
    "\n",
    "\n",
    "#Med beta*V0_Na=1 og beta*V0_K=10\n",
    "tList,VtNa1=randomWalkPotential(V1,V1,nt,NaB0,NaA0,KB0,KA0,V01,V02)\n",
    "#Med beta*V0_Na=10 og beta*V0_K=1\n",
    "tList,VtNa10=randomWalkPotential(V1,V1,nt,NaB0,NaA0,KB0,KA0,V02,V01)\n",
    "\n",
    "#plotter\n",
    "plt.plot(tList,VtNa1)\n",
    "plt.plot(tList,VtNa10)\n",
    "plt.xlabel(\"tid\")\n",
    "plt.ylabel(\"potensiale\")\n",
    "plt.title(\"Potensial per tid, med ulik V0 for Na- og K-partiklene\")\n",
    "plt.show()"
   ]
  },
  {
   "cell_type": "markdown",
   "metadata": {},
   "source": [
    "Oppgave 8"
   ]
  },
  {
   "cell_type": "code",
   "execution_count": 108,
   "metadata": {},
   "outputs": [
    {
     "name": "stderr",
     "output_type": "stream",
     "text": [
      "C:\\Users\\krist\\Anaconda3\\lib\\site-packages\\ipykernel_launcher.py:78: RuntimeWarning: invalid value encountered in double_scalars\n",
      "C:\\Users\\krist\\Anaconda3\\lib\\site-packages\\ipykernel_launcher.py:62: RuntimeWarning: invalid value encountered in double_scalars\n"
     ]
    },
    {
     "data": {
      "image/png": "[encoded data removed]",
      "text/plain": [
       "<Figure size 1152x360 with 1 Axes>"
      ]
     },
     "metadata": {},
     "output_type": "display_data"
    }
   ],
   "source": [
    "#Definerer parametere\n",
    "V_open=1/beta\n",
    "V0=50/beta\n",
    "nt=600\n",
    "\n",
    "#Definerer potensialene\n",
    "def V_Na_t(x,Vt,Vt_prev,V0):\n",
    "    if (-0.007<Vt<0.03) and (Vt>Vt_prev):\n",
    "        if x>=-h and x<=h:\n",
    "            return V0+(Vt/2-(Vt/(2*h))*x)\n",
    "        elif x<-h:\n",
    "            return Vt\n",
    "        else:\n",
    "            return 0\n",
    "    else:\n",
    "        if x>=-h and x<=h:\n",
    "            return V_open+(Vt/2-(Vt/(2*h))*x)\n",
    "        elif x<-h:\n",
    "            return Vt\n",
    "        else:\n",
    "            return 0\n",
    "    \n",
    "def V_K_t(x,Vt, Vt_prev,V0):\n",
    "    if (-0.007<Vt<0.03) and Vt<Vt_prev:\n",
    "        if x>=-h and x<=h:\n",
    "            return V0+(Vt/2-(Vt/(2*h))*x)\n",
    "        elif x<-h:\n",
    "            return Vt\n",
    "        else:\n",
    "            return 0\n",
    "    else:\n",
    "        if x>=-h and x<=h:\n",
    "            return V_open+(Vt/2-(Vt/(2*h))*x)\n",
    "        elif x<-h:\n",
    "            return Vt\n",
    "        else:\n",
    "            return 0\n",
    "\n",
    "#Kjører randomWalkPotential uten pumpe    \n",
    "tList,VtNoPump=randomWalkPotential(V_Na_t,V_K_t,nt,NaB0,NaA0,KB0,KA0,V0,V0)\n",
    "#med pumpe\n",
    "tList,VtPump=randomWalkPotential(V_Na_t,V_K_t,nt,NaB0,NaA0,KB0,KA0,V0,V0,True)\n",
    "\n",
    "#plotter\n",
    "plt.plot(tList,VtNoPump)\n",
    "plt.plot(tList,VtPump)\n",
    "plt.xlabel(\"tid\")\n",
    "plt.ylabel(\"potensial\")\n",
    "plt.title(\"Potensial med og uten pumpe\")\n",
    "plt.show()\n"
   ]
  },
  {
   "cell_type": "code",
   "execution_count": null,
   "metadata": {},
   "outputs": [],
   "source": [
    "\n"
   ]
  },
  {
   "cell_type": "code",
   "execution_count": null,
   "metadata": {},
   "outputs": [],
   "source": []
  },
  {
   "cell_type": "code",
   "execution_count": null,
   "metadata": {},
   "outputs": [],
   "source": []
  },
  {
   "cell_type": "code",
   "execution_count": null,
   "metadata": {},
   "outputs": [],
   "source": []
  }
 ],
 "metadata": {
  "kernelspec": {
   "display_name": "Python 3",
   "language": "python",
   "name": "python3"
  },
  "language_info": {
   "codemirror_mode": {
    "name": "ipython",
    "version": 3
   },
   "file_extension": ".py",
   "mimetype": "text/x-python",
   "name": "python",
   "nbconvert_exporter": "python",
   "pygments_lexer": "ipython3",
   "version": "3.6.5"
  }
 },
 "nbformat": 4,
 "nbformat_minor": 2
}
