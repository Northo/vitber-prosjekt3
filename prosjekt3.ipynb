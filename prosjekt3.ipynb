{
 "cells": [
  {
   "cell_type": "markdown",
   "metadata": {},
   "source": [
    "# TMA4320 Introduksjon til vitenskapelige beregninger\n",
    "\n"
   ]
  },
  {
   "cell_type": "markdown",
   "metadata": {},
   "source": [
    "# Liten git guide\n",
    "\n",
    "## NB husk cell-> All output ->clear\n",
    "\n",
    "åpne cmd\n",
    "bruk cd (change directory) for å åpne mappen (>>cd FILPLASSERING)\n",
    "for å 'pushe' (laste opp endringer du har gjort):\n",
    "- git add FILNAVN  ( prosjekt3.ipynb)\n",
    "- git commit -m \"her kan du skive en liten commit meliding\"\n",
    "- git pull  \n",
    "-git push\n",
    "Ferdig \n",
    "\n",
    "for å 'pulle' (laste ned endringer andre har gjort) \n",
    "- git pull \n",
    "Ferdig \n"
   ]
  },
  {
   "cell_type": "markdown",
   "metadata": {},
   "source": [
    "# 2 Exercises\n",
    "\n",
    "## 2.1 \n",
    "\n",
    "Vis at \n",
    "\n",
    "$$ \n",
    "\\begin{align}\n",
    "  \\phi(x,t)=\\frac{1}{\\sqrt{4 \\pi D t}} e^{- (x-\\mu)^2 /(4 D t)}\n",
    "\\end{align} \n",
    "$$\n",
    "\n",
    "hvor D er en konstant \n",
    "\n",
    "$$\n",
    "\\begin{align}\n",
    "\\frac{\\partial \\phi (x,t) }{\\partial t}= D \\frac{\\partial^2 \\phi (x,t)}{\\partial x^2}\n",
    "\\end{align}\n",
    "$$\n",
    "\n",
    "Venstre side av ligningen \n",
    "\n",
    "$$\n",
    "\\begin{align}\n",
    "\\frac{\\partial \\phi (x,t)}{\\partial t} &=\\frac{\\partial}{\\partial t}\\frac{1}{\\sqrt{4 \\pi D t}} e^{- (x-\\mu)^2 /(4 D t))} \\\\\n",
    "&=\\frac{1}{\\sqrt{4 \\pi D}}e^{- (x-\\mu)^2 /(4 D t))}\\big[ \\frac{-1/2}{t^{3/2}} + \\frac{(x-\\mu)^2}{4 D t^2} \\big].\n",
    "\\end{align}\n",
    "$$\n",
    "\n",
    "og høyre side blir \n",
    "$$\n",
    "\\begin{align}\n",
    "D \\frac{\\partial^2 \\phi (x,t)}{\\partial x^2}   \\\\\n",
    "&= \\frac{\\partial}{\\partial x} \\frac{-2 (x-mu)}{4 D t}  \\frac{1}{\\sqrt{4 \\pi D t}}  e^{- (x-\\mu)^2 /(4 D t)} \\\\\n",
    "&= D \\frac{1}{\\sqrt{4 \\pi D t}}  e^{- (x-\\mu)^2 /(4 D t)} \\Big[   \n",
    "\\frac{-2}{4 D t} + \\frac{4 (x-\\mu)^2}{4^2 D^2 t^2}\n",
    "\\Big]\n",
    "\\end{align}\n",
    "$$\n",
    "\n",
    "\n",
    "////////////////////////////////////\n",
    "HUSK: \n",
    "- tilde over phi \n",
    "- sjekk om det finnes en bedre måte å skrive e^x på \n",
    "- husk å sjekke komma og punktum \n",
    "\n",
    "\n",
    "\n",
    "## 2.2\n",
    "### 2.2.1\n",
    "\n",
    "La D være en konstant. Start med partikkeldistrubisjonen \n",
    "$$\n",
    "\\begin{align}\n",
    "\\phi(x,0)=\\delta (x-x_0)\n",
    "\\end{align}\n",
    "$$\n",
    "\n",
    "Her kan vi bruke \n",
    "\n",
    "$$\n",
    "\\begin{align}\n",
    "\\delta (x-x_0) = \\frac{1}{2 \\pi} \\int_{-\\infty}^{\\infty} e^{-ik(x-x_0)}dk\n",
    "\\end{align}\n",
    "$$\n",
    "\n",
    "Det gir \n",
    "\n",
    "$$\n",
    "\\begin{align}\n",
    "\\dot{\\phi}(x,t) \\big |_{t=0} &= D \\phi '' (x,t') \\big |_{t'=0} = D \\phi ''(x,0) \\\\\n",
    "&=D \\frac{\\partial^2}{\\partial x^2} \\delta(x-x_0)  \\\\\n",
    "&= D \\frac{1}{2\\pi} \\frac{\\partial^2}{\\partial x^2} \\int_{-\\infty}^{\\infty} e^{-ik(x-x_0)}dk \\\\\n",
    "&= D (-ik)^2  \\frac{1}{2\\pi}  \\int_{-\\infty}^{\\infty} e^{-ik(x-x_0)}dk  \\\\\n",
    "&= -Dk^2 \\phi (x,0)\n",
    "\\end{align}\n",
    "$$\n",
    "\n",
    "Dette gir at for hver gang $\\phi$ tidsderiveres detter ut faktor $-Dk^2$. \n",
    "\n",
    "Dette kan generaliseres til at \n",
    "$$\n",
    "\\begin{align}\n",
    "\\big ( \\frac{\\partial}{\\partial t} \\big )^{n} \\phi (x,t) \\big |_{t=0} = (-Dk^2)^n \\phi(x,t)\n",
    "\\end{align}\n",
    "$$\n",
    "\n",
    "\n",
    "\n",
    "\n",
    "Dette kan brukes i taylor utviklingen\n",
    "\n",
    "$$\n",
    "\\begin{align}\n",
    "\\phi (x,t) &= \\phi (x,0) + \\sum_{n=1}^{\\infty} \\frac{t^n}{n!} \\frac{\\partial^n \n",
    "\\phi(x,t')}{\\partial t'^n } \n",
    "\\Big |_{t'=0}    \\\\\n",
    "&=\\phi(x,0)+ \\sum_{n=1}^{\\infty} \\frac{ (-Dk^2t)^n}{n!} \\\\\n",
    "&= \\phi (x,0) e^{-Dk^2t}  \\\\\n",
    "&= \\frac{1}{2 \\pi} \\int_{- \\infty}^{\\infty} e^{-Dk^2t}e^{-ik(x-x_0}\n",
    "\\end{align}\n",
    "$$\n",
    "\n",
    "\n",
    "\n",
    "## Husk fiks utregning av integral, skal bli \n",
    "\n",
    "$$\n",
    "\\begin{align}\n",
    "\\phi(x,t)= \\frac{1}{4\\pi D t} e^{- \\frac{(x-x_0)^2}{4Dt} }\n",
    "\\end{align}\n",
    "$$\n"
   ]
  },
  {
   "cell_type": "markdown",
   "metadata": {},
   "source": [
    "# Oppgave 3"
   ]
  },
  {
   "cell_type": "code",
   "execution_count": 90,
   "metadata": {},
   "outputs": [
    {
     "name": "stdout",
     "output_type": "stream",
     "text": [
      "(-0.196, 10.243123742296586)\n"
     ]
    },
    {
     "data": {
      "image/png": "iVBORw0KGgoAAAANSUhEUgAAAX0AAAD8CAYAAACb4nSYAAAABHNCSVQICAgIfAhkiAAAAAlwSFlzAAALEgAACxIB0t1+/AAAADl0RVh0U29mdHdhcmUAbWF0cGxvdGxpYiB2ZXJzaW9uIDIuMi4yLCBodHRwOi8vbWF0cGxvdGxpYi5vcmcvhp/UCwAAIABJREFUeJzt3X10FfW97/H3NwkEAXkwBOTRDYLEAJFoRK0PtbUP+FCxFc/BnnOPPdXrbXu43i6v65ZeV10e27OU3tN62lVPvVrbejxt8am2KPjU4m0VARMeYyCBEIIEIgRBUDCBkN/9Yya43ewkO8nee/be83mtlZXZM7/Z82Wy+WTym5nfmHMOEREJh7ygCxARkfRR6IuIhIhCX0QkRBT6IiIhotAXEQkRhb6ISIgo9EVEQkShLyISIgp9EZEQKQi6gFijRo1ykUgk6DJERLLK2rVr9zvnintql3GhH4lEqKqqCroMEZGsYmY7E2mn7h0RkRBR6IuIhIhCX0QkRBT6IiIhotAXEQkRhb6ISIgo9EVEQkShLyISIgp9EZEQybg7ckWCFlm07JR5jQ9cG0AlIsmnI30RkRBR6IuIhIhCX0QkRBT6IiIhotAXEQkRhb6ISIgo9EVEQkShLyISIgp9EZEQUeiLiIRIQqFvZnPNrM7M6s1sUZzlhWb2pL98jZlF/PkRM/vIzDb4Xw8nt3wREemNHsfeMbN84CHg80ATUGlmS51zm6Oa3QocdM5NNbMFwGLgb/1l251zs5Nct4iI9EEiR/pzgHrnXINz7hiwBJgX02Ye8Lg//QxwlZlZ8soUEZFkSCT0xwO7ol43+fPitnHOtQOHgCJ/2WQzW29mfzGzy+NtwMxuN7MqM6tqaWnp1T9AREQSl0joxztidwm2aQYmOefKgTuB35rZsFMaOveIc67COVdRXFycQEkiItIXiYR+EzAx6vUEYE9XbcysABgOHHDOtTnn3gNwzq0FtgPn9LdoERHpm0RCvxKYZmaTzWwgsABYGtNmKXCLPz0fWOGcc2ZW7J8IxsymANOAhuSULiIivdXj1TvOuXYzWwi8DOQDv3TO1ZjZfUCVc24p8BjwhJnVAwfwfjEAXAHcZ2btwAngG865A6n4h4iISM8Selyic245sDxm3j1R063ATXHWexZ4tp81iohIkuiOXBGREFHoi4iEiEJfRCREFPoiIiGi0BcRCRGFvohIiCj0RURCRKEvIhIiCn0RkRBR6IuIhIhCX0QkRBT6IiIhktCAayLSvciiZafMa3zg2gAqEemejvRFREJEoS8iEiIKfRGREFHoi4iEiEJfRCREFPoiIiGi0BcRCRGFvohIiCj0RURCRKEvIhIiCn0RkRBR6IuIhIhCX0QkRDTKpoSKRsOUsNORvohIiCj0RURCJKHQN7O5ZlZnZvVmtijO8kIze9JfvsbMIjHLJ5nZh2Z2V3LKFhGRvugx9M0sH3gIuBooBW42s9KYZrcCB51zU4EHgcUxyx8EXux/uSIi0h+JHOnPAeqdcw3OuWPAEmBeTJt5wOP+9DPAVWZmAGZ2A9AA1CSnZBER6atEQn88sCvqdZM/L24b51w7cAgoMrMhwHeAf+5/qSIi0l+JhL7FmecSbPPPwIPOuQ+73YDZ7WZWZWZVLS0tCZQkIiJ9kch1+k3AxKjXE4A9XbRpMrMCYDhwALgImG9mPwRGAB1m1uqc+1n0ys65R4BHACoqKmJ/oYiISJIkEvqVwDQzmwzsBhYAX41psxS4BVgFzAdWOOcccHlnAzO7F/gwNvBFRCR9euze8fvoFwIvA1uAp5xzNWZ2n5ld7zd7DK8Pvx64Ezjlsk6RrLZ6Ndx2G1xyCfzud+D0B6lkp4SGYXDOLQeWx8y7J2q6Fbiph/e4tw/1iQRuVvM2+Mx8KCyEMWPgq1+FFSvg0UeDLk2k13RHrkg3Rh05yKO//74X9lu3wubNcOed8ItfwNKlQZcn0msKfZFufHP1M4w68j788Y8wejTk58P998OsWfCtb8Hhw0GXKNIrCn2RLpxx9BA3b3yJP8z4DJx33scLBg6ERx6B3bu97yJZRKEv0oV/rFrKoOPH+PlF809dePHFcNll8PDD0NGR/uJE+kihLxJHwYl2vrrhRV6ddhHbR02M3+ib34Tt2+HVV9NbnEg/KPRF4vjUzo0UfXSYZ2de1XWjG2+E4mL4+c/TV5hIPyn0ReK4rvZ1Dg8czF+mXNB1o8JC+Pu/hxdfZEjb0fQVJ9IPCn2RGAPbjzN36ypePedi2goGdt/4hhvg2DGu2LEuPcWJ9JNCXyTGZY3rGdZ2hOdLrui58ac+BUVFfL5+TeoLE0kChb5IjCsb1nJkwCBWRs7ruXFBAVx3HVfVv0XBifbUFyfSTwp9kRiXN65j9aRZHM8fkNgKN9zA8LYjXNik5wRJ5lPoi0TbsYPJB5t5PVKe+Dqf+xzH8/K5rHFD6uoSSRKFvkg0/5r71yf3IvSHDmXTmdO45J1NKSpKJHkU+iLRXnmFPaePYvsZE3q12qqzyihr3qZLNyXjKfRFOnV0wIoVvBGZDRbvCaBdWzWpjALXwYVNm1NUnEhyKPRFOm3ZAgcPUjlhRq9XXTu+hGN5BVysLh7JcAp9kU4rVwJQOaG016u2DhjE+nHTueSd6mRXJZJUCn2RTitXQnExjSPH9Wn1yokzmLF3O4OOtya5MJHkUeiLdFq5Ei69tNf9+Z3WjSuhwHVQ9m59kgsTSR6FvgjA3r3eMMmXXtrnt9gwbjoA5Xtqk1WVSNIp9EXgZH9+f0L/wODh7Bg5lvI9dUkqSiT5FPoiAGvWwIABcP75/Xqb9eNKOH93LTiXpMJEkkuhLwJQWek9B7ewsF9vs37cdEYfOcj4wy1JKkwkuRT6Ih0dsHYtXHhhv99q3bgSQP36krkU+iLbtsHhw0kJ/briCG35BczUFTySoRT6IpWV3veKin6/VXt+AVtHncWMvQ39fi+RVFDoi1RWwuDBcO65SXm7mjFnM2Nfg07mSkZS6ItUVUF5ufcUrCSoGTOFMz46DE1NSXk/kWRS6Euo5XWcgPXrk9K106lm9NnexPr1SXtPkWRR6EuoTTmwGz76qN/X50erHR2hA1PoS0ZKKPTNbK6Z1ZlZvZktirO80Mye9JevMbOIP3+OmW3wvzaa2ZeTW75I/5Tu80+4lvfiSVk9ODrwNHacMV6hLxmpx9A3s3zgIeBqoBS42cxix569FTjonJsKPAgs9ue/DVQ452YDc4H/a2bJ6TgVSYIZexu8G7JKSpL6vjVjpij0JSMlcqQ/B6h3zjU4544BS4B5MW3mAY/7088AV5mZOeeOOufa/fmDAF3OIBmldG8DzJzpDcGQRDVjpsA778B77yX1fUX6K5HQHw/sinrd5M+L28YP+UNAEYCZXWRmNUA18I2oXwInmdntZlZlZlUtLbp9XdLEOa97Z/bspL/1yZO5GzYk/b1F+iOR0I83uHjsEXuXbZxza5xzM4ALge+a2aBTGjr3iHOuwjlXUVxcnEBJIv135gfvUfTR4ZSE/uYxU7wJdfFIhkkk9JuAiVGvJwB7umrj99kPBw5EN3DObQGOADP7WqxIMqXiJG6nA4OHw/jxOtKXjJNI6FcC08xsspkNBBYAS2PaLAVu8afnAyucc85fpwDAzM4CpgONSalcpJ9Ohn5ZWWo2UF6uI33JOD2Gvt8HvxB4GdgCPOWcqzGz+8zser/ZY0CRmdUDdwKdl3VeBmw0sw3Ac8C3nHP7k/2PEOmLkn2N7BxxJpx+emo2UF4OtbVw9Ghq3l+kDxK6fNI5txxYHjPvnqjpVuCmOOs9ATzRzxpFUqKkpZG64ghnpWoD5eXesM3V1XDRRanaikiv6I5cCaXC9mNMPriHLcWR1G2k81yBungkgyj0JZSm7n+HfNdBXSpD/6yzYPhw2LgxddsQ6SXdHSuhVNKyE4C64pR17oAZzJrlde8AkUXLTmnS+MC1qdu+SBw60pdQmt7SSFv+ABpHjkvthsrKvNDX2PqSIRT6EkolLY1sGzWJE3n5qd1QWZn3KMZ33kntdkQSpNCXUJq+f2dqu3Y6zZrlfd+0KfXbEkmA+vQldEYePcSYDw/068qdeP3zcc30b0DftAlI/nAPIr2lI30JnY9P4kZSv7Fhw2Dy5JMnc0WCpiN9CZ3pLY0A1PYi9BM+so9n1izvSD/xzYmkjI70JXSmtzRy4LRhtAwZmZ4NlpXB1q0Uth9Lz/ZEuqHQl9ApafFP4lq8EcFTYNYsOHGCqe/t6rmtSIop9CVUzHVwzv6dvera6Td/FM+SfY3p26ZIFxT6EioTDu1jyPHW9Ib+1KkwaBAlLTvSt02RLij0JVTO3ecFb1qu3OlUUAClpUz3rxoSCZJCX0Kl88qdraMmpXfDZWWcqyN9yQAKfQmV6S072TniTI4OPC29Gy4ro/jI+xQdeT+92xWJoev0JVQ6H5wSrV/X4CfKH45heksjbw7RnbkSHB3pS3i0thI5uIfaUWkYcyeWfwXPuX73kkhQFPoSHrW1FKT6wSldGT2alsEjTp5TEAmKQl/Cwx//Jq2Xa0apLY5QotCXgCn0JTyqq2nLL6DxjBQ/OKULtaMjnLP/HfI6TgSyfRFQ6EuYVFezvWhi6h+c0oW64giD2o8ROdgcyPZFQKEvYVJdHVjXDnBy/H518UiQFPoSDgcPwu7d6XlaVhfqR03ihOVRsk83aUlwFPoSDv5J3LpRkcBKaCsYyI6R4yjZr+EYJDgKfQmHt98Ggrtyp1Pt6Mk60pdAKfQlHKqrYcQI3j29KNAyaovPYtKhvQxpOxpoHRJeCn0Jh+pq7yHl6XpwShdqiycDMF1dPBIQhb7kPue87h1//Jsg1Y6OALqCR4KTUOib2VwzqzOzejNbFGd5oZk96S9fY2YRf/7nzWytmVX73z+b3PJFErBrFxw6lBGh3zRsNB8MPE3DMUhgegx9M8sHHgKuBkqBm82sNKbZrcBB59xU4EFgsT9/P/Al59ws4BbgiWQVLpIw/8qdTAh9zKgrjujRiRKYRI705wD1zrkG59wxYAkwL6bNPOBxf/oZ4CozM+fceufcHn9+DTDIzAqTUbhIwjpDf+bMYOvw1RZHvNE2nQu6FAmhREJ/PLAr6nWTPy9uG+dcO3AIiL1M4kZgvXOurW+livRRdTVMnAgjRgRdCeCF/rC2I4z9YH/QpUgIJfIQlXiXO8QeonTbxsxm4HX5fCHuBsxuB24HmDQpzY+xk9yXISdxO+lkrgQpkSP9JmBi1OsJwJ6u2phZATAcOOC/ngA8B/yDc257vA045x5xzlU45yqKi4t79y8Q6c7x47BlS8Z07QBs9R/icq5u0pIAJBL6lcA0M5tsZgOBBcDSmDZL8U7UAswHVjjnnJmNAJYB33XOrUxW0SIJ27rVC/4MOtI/PGgoTcOKmd6ia/Ul/XoMfb+PfiHwMrAFeMo5V2Nm95nZ9X6zx4AiM6sH7gQ6L+tcCEwFvmdmG/yv0Un/V4h0JZOu3IniPVBFR/qSfgk9GN05txxYHjPvnqjpVuCmOOv9APhBP2sU6bvqasjPh5KSoCv5hLriCJ/esQ7a2qBQF7RJ+uiOXMlt1dUwfXrGBWttcYQBHSegtjboUiRkFPqS26qrM65rB2DLaG8MHjZtCrYQCR2FvuSuDz6AxsaMDP3GkeNoyy/4+JyDSJoo9CV3dR5FZ2Dot+cXUF80SUf6knYKfcld69d7388/P9g6ulA7OqLQl7RT6EvuWr8eRo2C8bGjhmSG2lERaG6G/RqOQdJHoS+5a/16KC8P/MEpXekcjkH9+pJOCn3JTceOeWPuZGjXDkQ9r1ddPJJGCn3JTTU13vAL5eVBV9KlliEjve4nHelLGiV0R65I1uk8iRtg6EcWLeu+gRmUlelIX9JKR/qSm9atg6FDYerUoCvp3qxZ3l8lJ04EXYmEhI70JWdEH1k/84cVdIyYxJy8DD+uKSuDo0ehoQGmTQu6GgmBDP8fIdJ7eR0nOHffDmrGnB10KT0rK/O+q4tH0kShLzkncrCZIcdbsyP0S0u9vn2dzJU0UehLzpm513tAW82YKQFXkoDBg71unQ0bgq5EQkKhLzmndO922vIL2FaUJc9brqiAtWuDrkJCQqEvOWfG3gbqiiO052fJdQoVFdDUBO++G3QlEgIKfcktzjFz73ZqRmdB106nigrve1VVsHVIKCj0JaeM+6CFka0fZMdJ3E7l5ZCXp9CXtFDoS06Z1VwPwNtnZvhNWdGGDoVzz1XoS1pkSaenSGLKm+toyy9gczZ174DXxfPSS0S+88Ipo4I2PnBtQEVJLtKRvuSU2Xvq2DJ6CscKBgRdSu9ceCHs3cvYDzS2vqSWQl9yRl7HCWa9W8+GsecEXUrvzZkDeL+0RFJJoS85Y9p7uxhyvJUN46YHXUrvnXceFBZSrtCXFFPoS87oPEremI1H+gMHwgUXcP6e2qArkRyn0JecMXtPHe8PGsqOkeOCLqVvLrmEWe/WM+DE8aArkRym0JecUb6nzjvKz9Bn4vbo4ospPHGc0r0NQVciOUyhL7nh4EFK9u+kckJp0JX03SWXAKhfX1JK1+lLbnjzTQCqsiz0Yx+p+Obpo7hg9xZ+XXF9QBVJrtORvuSGlSs5npefnZdrRqmaUEpF02ZwLuhSJEclFPpmNtfM6sys3swWxVleaGZP+svXmFnEn19kZq+Z2Ydm9rPkli4S5Y03qBlzNq0DBgVdSb+8NXEmYz98j4mH9gZdiuSoHrt3zCwfeAj4PNAEVJrZUufc5qhmtwIHnXNTzWwBsBj4W6AV+B4w0/8SSb62NqispGrmF09ZFNt9kunWTJgBwEW73mbXiDMDrkZyUSJH+nOAeudcg3PuGLAEmBfTZh7wuD/9DHCVmZlz7ohz7g288BdJjXXroLU16/rz46kfNZEDpw1jzq63gy5FclQioT8e2BX1usmfF7eNc64dOAQUJVqEmd1uZlVmVtXS0pLoaiKe114DvK6RbOcsj8oJpczZVRN0KZKjEgn9eBc9x55lSqRNl5xzjzjnKpxzFcXFxYmuJuJZsQLKyjgweHjQlSTFWxNnEnm/mTEafE1SIJHQbwImRr2eAOzpqo2ZFQDDgQPJKFCkW62tsHIlfPazQVeSNKv9v1gueac64EokFyUS+pXANDObbGYDgQXA0pg2S4Fb/On5wArndM2ZpMHq1V7w51Dobx4zhQOnDePyxvVBlyI5qMfQ9/voFwIvA1uAp5xzNWZ2n5l13kHyGFBkZvXAncDJyzrNrBH4MfA1M2sys+w/2yaZY8UK71GDV1wRdCVJ4yyPN886j8saN+h6fUm6hO7Idc4tB5bHzLsnaroVuKmLdSP9qE+ke3/+s/fUqeG50Z/f6fXIbK6rfZ2p7+3qubFIL+iOXMleBw543TtfPPX6/Gz3RqQcQF08knQKfcler7wCHR1wzTVBV5J0u4ePpmHkOC7fodCX5FLoS/ZavhyKirzny+agv0y5gE+9swmOHg26FMkhCn3JTh0d8NJLMHcu5OcHXU1K/GnqRQxqP+adtxBJEoW+ZKe1a6GlBa6+OuhKUuatiTM4PHAwLI29Qlqk7xT6kp2ee847wp87N+hKUuZ4/gD+OuUCeOEF7y8bkSRQ6Ev2cQ6eftq7Iaso4SGestKfps6Bd9+FysqgS5EcodCX7FNdDfX1MH9+0JWk3IqzL4QBA7xfciJJoNCXrBFZtIzIomX85Jv3c8Ly4IYbgi4p5Q4PGup1YT35pLp4JCn0jFzJLs5xXe0bvDVxBjf/OCRdHgsWwPPPewPLXX550NVIltORvmSV2c1bOftAE38ovTLoUtLn+uvhtNNgyZKgK5EcoNCXrHJT9at8VFDIspIQHfEOHeoF/5Il3oiiIv2g0JesUXi8jS9teZ0Xp3+KDwsHB11Oet12mzfW0HPPBV2JZDmFvmSNL25bxbC2Izwz86qgS0mryKJlTH71I3aOOJNVi+4PuhzJcgp9yRr/WPU8DSPHseqssqBLSTtneTxZ9gXvaVp1dUGXI1lMoS/ZYfVqypvr+FXF9TgL58f26Vmfpy2/AH7yk6BLkSymSzYlO/zbv3G4cAjPhqxrJ1rL0JE8N+Oz3PDoY1yafynvDRlxclnjA9cGWJlkk3AeMkl2qauDp5/mt+d9kaMDTwu6mkA9MucrDGw/ztfWPh90KZKlFPqS+e69F047jUfnfCXoSgLXUDSBl8+5hFvWPs/Io4eCLkeykEJfMlt1tTcEwR13fKI7I8x+fNnfMeR4KwtXPRV0KZKFFPqSuZyDb3/be+j5XXcFXU3G2FZ8Fk/N+hz/Zd0yJh1sDrocyTIKfclcS5bAihVw//1wxhlBV5NRHrzs7zieX8APXvl375ejSIJ09Y5khMiiZZ94XXTkfV761UJ2j53GVxrG0RGzPOz2nV7EA1d+je+/+jA3Vf8JuC7okiRL6EhfMo65Dn607EGGtR5h0dw76MjLzWfg9td/ll/Dmokz+d6fH4Vt24IuR7KEQl8yzsI3n+TKHWv5/lX/ldrRk4MuJ2M5y+POa++kPb/Ae7bAhx8GXZJkAYW+ZJT51X/if77xG34/4zP85+zcfeh5suwePpr/fv3/gtpauPFGjcIpPVLoS8b4m42vsPjFn/LXSDnfufoOMAu6pKywMjIbfvELeOUVuOkmOHo06JIkgyn0JXjt7dz11//ghy/9lDcis/lvX76b4/kDgq4qq0TqRnP3F75FxwvL2HT2ebBrV9AlSYZS6Euwqqvh059m4aqnWFL2BW678Xt8NHBQ0FVlpd+UX8NtN36PKQd2w6xZ8Ktf6bm6coqEQt/M5ppZnZnVm9miOMsLzexJf/kaM4tELfuuP7/OzL6YvNIlq23ZAl//OsyeDbW13PGlu1h09R06wu+nFVPncM3Xfsqa0yfA179OzdhpfOPL/xva24MuTTJEj6FvZvnAQ8DVQClws5mVxjS7FTjonJsKPAgs9tctBRYAM4C5wL/77ydh094OGzfCv/4rXHwxlJZ6N18tXAjbtrE0TM+8TbF3Ro5lwVfv544v3cXQY0d5+A/3w8SJ3tO3nn0WDmnMnjBL5OasOUC9c64BwMyWAPOAzVFt5gH3+tPPAD8zM/PnL3HOtQE7zKzef79VySk/xOLdhZnIvGSud+IEHDninTg8cuTj6cOHobkZ9uyBnTth0yaoqYG2Nm+9886DxYu9I/1Ro+L/+6RfnOWxtPRKXii5nM80VPEYm+Hpp+Gxx7wT5JMnw4wZUFIC48fDmDHe1+mnw+DBMGSI933QIMjPh7w873t+vre+TrJnrURCfzwQfVaoCbioqzbOuXYzOwQU+fNXx6w7vs/VdmftWvj0pz85L1khmAkBm43M4MwzYeZM74h+9my48kqYMCHoykKjIy+fP0+9CB64D44fh1Wr4LXXYPNm7+vll+HYsd6/cV7ex78I8vKC+SWQi9u88Ub49a9TuolEQj/evzI2lbpqk8i6mNntwO3+yw/NrD/PgxsF7O/H+qkSvrqc8474m5vh1Vd7u3b49lf/dVmbLU7yljo6vK/EzhVk6j7LvLoefxwef7yvdZ2VSKNEQr8JmBj1egKwp4s2TWZWAAwHDiS4Ls65R4BHEim4J2ZW5ZyrSMZ7JZPq6h3V1XuZWpvq6p1U15XI1TuVwDQzm2xmA/FOzC6NabMUuMWfng+scM45f/4C/+qeycA04K3klC4iIr3V45G+30e/EHgZyAd+6ZyrMbP7gCrn3FLgMeAJ/0TtAbxfDPjtnsI76dsO/JNz7kSK/i0iItKDhIZWds4tB5bHzLsnaroVuKmLdf8F+Jd+1NhbSekmSgHV1Tuqq/cytTbV1TsprctcrlwpIiIiPdIwDCIiIZK1oW9mN5lZjZl1mFlFzLK4Qz/0NJxECmp80sw2+F+NZrbBnx8xs4+ilj2c6lri1Havme2OquGaqGWBDZ1hZv/HzGrNbJOZPWdmI/z5mbDP0vr56aaOiWb2mplt8f8P/A9/fpc/0zTW1mhm1f72q/x5Z5jZq2a2zf8+MoC6pkftlw1mdtjMvh3EPjOzX5rZPjN7O2pe3H1knp/6n7lNZnZ+vwtwzmXlF3AuMB34f0BF1PxSYCNQCEwGtuOdgM73p6cAA/02pWms90fAPf50BHg74P13L3BXnPlx918a6/oCUOBPLwYWZ8I+C/rzE1PLWOB8f/p0YKv/c4v7M01zbY3AqJh5PwQW+dOLOn+mAf8s38W7rj3t+wy4Ajg/+vPc1T4CrgFexLvn6WJgTX+3n7VH+s65Lc65eDdxnRz6wTm3A+gc+uHkcBLOuWNA53ASKecPSfE3wO/Ssb1+6mr/pYVz7hXnXOcdP6vx7u3IBIF9fmI555qdc+v86Q+ALaTqTvfkmAc87k8/DtwQYC0AVwHbnXM7g9i4c+6veFc5RutqH80D/sN5VgMjzGxsf7aftaHfjXjDRozvZn46XA7sdc5FP8h0spmtN7O/mNnlaaoj1kL/T8ZfRv3JHeR+ivV1vKOcTkHus0zaLyeZN6JtObDGnxXvZ5pODnjFzNaad6c9wBjnXDN4v7CA0QHUFW0BnzwAC3qfQdf7KOmfu4wOfTP7k5m9HeeruyOsfg0JkaIab+aTH7JmYJJzrhy4E/itmQ3rby29rO3nwNnAbL+eH3WuFuetknqJVyL7zMzuxru34zf+rLTss+7KjjMv0EvfzGwo8CzwbefcYbr+mabTpc658/FG5f0nM7sigBq6ZN4NptcDT/uzMmGfdSfpn7uErtMPinPuc31YrbuhH3ocEqK3eqrRvGEpvgJcELVOG9DmT681s+3AOUBVf+vpTW1RNT4KvOC/TGjojFTWZWa3ANcBVzm/YzNd+6wbKd8vvWFmA/AC/zfOud8DOOf2Ri2P/pmmjXNuj/99n5k9h9ctttfMxjrnmv2uiX3privK1cC6zn2VCfvM19U+SvrnLqOP9Puoq6EfEhlOIhU+B9Q655o6Z5hZsfnPFTCzKX6NDWmo5aSYfsEvA51XEgQ6dIaZzQW+A1zvnDsaNT/ofRbU5+cU/jmix4AtzrkfR83v6mearrqGmNnpndN4J+Xf5pPDtNwC/DGD+1MvAAAA9klEQVSddcX4xF/dQe+zKF3to6XAP/hX8VwMHOrsBuqzdJ85T+IZ8C/j/RZsA/YCL0ctuxvvSos64Oqo+dfgXemwHbg7TXX+GvhGzLwbgRq8K0DWAV8KYP89AVQDm/wP1tie9l+a6qrH68Pc4H89nEH7LO2fny7quAzvT/xNUfvpmu5+pmmqa4r/89no/6zu9ucXAX8Gtvnfzwhovw0G3gOGR81L+z7D+6XTDBz3M+zWrvYRXvfOQ/5nrpqoKxX7+qU7ckVEQiQXu3dERKQLCn0RkRBR6IuIhIhCX0QkRBT6IiIhotAXEQkRhb6ISIgo9EVEQuT/Axy4GQoJHHsYAAAAAElFTkSuQmCC\n",
      "text/plain": [
       "<Figure size 432x288 with 1 Axes>"
      ]
     },
     "metadata": {},
     "output_type": "display_data"
    }
   ],
   "source": [
    "#Hvordan skal vi normere? må vi gjøre noe med både x-verdiene og y-verdiene?\n",
    "#Skjedde mye rart da jeg skulle prøve å plotte med normalfordeling i samme plot...\n",
    "#får ikke til å skalere\n",
    "\n",
    "\n",
    "import random\n",
    "import numpy as np\n",
    "import matplotlib.pyplot as plt\n",
    "from scipy.stats import norm\n",
    "import math\n",
    "\n",
    "\n",
    "\n",
    "\n",
    "n=1000  #antall partikler\n",
    "t=100  #antall tidssteg\n",
    "\n",
    "#returnerer -1 for skritt mot venstre, og 1 for skritt mot høyre\n",
    "#P er sannsynligheten for skritt mot venstre (for å kunne bruke i alle oppgaver)\n",
    "def generateRandomStep(P): \n",
    "    randomNumber=random.randint(1,10000)/10000\n",
    "    if randomNumber<=P:\n",
    "        return -1\n",
    "    else:\n",
    "        return 1\n",
    "\n",
    "#returnerer 1 partikkels posisjon etter t tilfeldige skritt\n",
    "def randomParticlePosition(t,P): \n",
    "    pos=0\n",
    "    for i in range(t):\n",
    "        step=generateRandomStep(P)\n",
    "        pos+=step\n",
    "    return pos\n",
    "\n",
    "#plotter tilfeldige posisjoner for n antall partikler\n",
    "#Kan bare ende på partall antall steg,så kan evt bare plotte dette (ikke odetall, blir da kurve ikke brått opp og ned graf)\n",
    "def plotMultipleParticlesPos(n,t):\n",
    "    xList=np.arange(-t,t,1)\n",
    "    posList=[0]*t*2      #liste for antall partikler per posisjon\n",
    "    listOfPositions=[]\n",
    "    for i in range(n):           #for n partikler\n",
    "        pos=randomParticlePosition(t,0.5)   #finner posisjon til partikkelen\n",
    "        listOfPositions.append(pos)\n",
    "        \n",
    "    #print(xList,posList)\n",
    "    #Skalerer listen, fordi total sannsynlighet må jo være 1\n",
    "\n",
    "    parameters=norm.fit(listOfPositions) #normalfordeling tilpasset dataene\n",
    "    print(parameters)\n",
    "    fitted_pdf = norm.pdf(xList,loc = parameters[0],scale = parameters[1])\n",
    "    plt.plot(xList,fitted_pdf,\"red\") #normalfordelingskurve\n",
    "    plt.hist(listOfPositions,density=True,bins=20)  #plotter dataene\n",
    "    plt.show()\n",
    "    #print(fitted_pdf)\n",
    "        \n",
    "plotMultipleParticlesPos(n,t)"
   ]
  },
  {
   "cell_type": "markdown",
   "metadata": {},
   "source": [
    "# Oppgave 5 "
   ]
  },
  {
   "cell_type": "code",
   "execution_count": 91,
   "metadata": {},
   "outputs": [],
   "source": [
    "import scipy.constants\n",
    "\n",
    "k=0.5*scipy.constants.eV #hva skal vi sette denne?\n",
    "T0=273+37\n",
    "kb=scipy.constants.k\n",
    "beta=1/(kb*T0) #??\n",
    "h=1 #skrittlengde\n",
    "t=100\n",
    "n=1000\n",
    "\n",
    "#Definerer potensialene\n",
    "\n",
    "def V1(x):\n",
    "    return k*x\n",
    "\n",
    "def V2(x):\n",
    "    if x>-3*h or x<3*h:\n",
    "        return k\n",
    "    else:\n",
    "        return 0\n",
    "    \n",
    "def V3(x):\n",
    "    if x<-3*h:\n",
    "        return -k\n",
    "    elif x>3*h:\n",
    "        return k\n",
    "    else:\n",
    "        return k*(-1+2*((x+3*h)/6*h))\n",
    "    \n",
    "     \n",
    "    \n",
    "def plotParticlePositionInPotential(k,beta,h,n,t,V):\n",
    "    xList=[]\n",
    "    for x in range(-100,100): #liste for posisjon\n",
    "        xList.append(x)\n",
    "    posList=[0]*2*t      #liste for antall partikler per posisjon\n",
    "    for i in range(n):#for n partikler\n",
    "        pos=0\n",
    "        for j in range(t): #t antall skritt\n",
    "            PdivP=math.exp(-beta*(V(pos-h)-V(pos+h)))\n",
    "            P=PdivP/(1+PdivP)\n",
    "            #if j%10==0:\n",
    "                #print(P)\n",
    "            step=generateRandomStep(P)\n",
    "            pos+=step\n",
    "        #print(pos)\n",
    "        #print(len(posList))\n",
    "        #print(pos+100)\n",
    "        posList[pos+100]+=1 #legger til en til partikkel på posisjonen\n",
    "    #Skalerer listen, fordi total sannsynlighet må jo være 1\n",
    "    scaledPosList= [i/sum(posList) for i in posList]\n",
    "    #print(scaledPosList)\n",
    "    plt.xlim=(-50,50)\n",
    "    plt.plot(xList,scaledPosList,\"red\")  #plotter dataene\n",
    "    plt.show()"
   ]
  },
  {
   "cell_type": "markdown",
   "metadata": {},
   "source": [
    "## 5.1"
   ]
  },
  {
   "cell_type": "code",
   "execution_count": 92,
   "metadata": {},
   "outputs": [
    {
     "name": "stdout",
     "output_type": "stream",
     "text": [
      "2.3364429142421445e+20\n"
     ]
    },
    {
     "data": {
      "image/png": "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\n",
      "text/plain": [
       "<Figure size 432x288 with 1 Axes>"
      ]
     },
     "metadata": {},
     "output_type": "display_data"
    }
   ],
   "source": [
    "print(beta)\n",
    "\n",
    "plotParticlePositionInPotential(k,beta,h,n,t,V1)\n"
   ]
  },
  {
   "cell_type": "markdown",
   "metadata": {},
   "source": [
    "## 5.2"
   ]
  },
  {
   "cell_type": "code",
   "execution_count": 93,
   "metadata": {
    "scrolled": true
   },
   "outputs": [
    {
     "data": {
      "image/png": "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\n",
      "text/plain": [
       "<Figure size 432x288 with 1 Axes>"
      ]
     },
     "metadata": {},
     "output_type": "display_data"
    }
   ],
   "source": [
    "\n",
    "plotParticlePositionInPotential(k,beta,h,n,t,V2)"
   ]
  },
  {
   "cell_type": "markdown",
   "metadata": {},
   "source": [
    "## 5.3 "
   ]
  },
  {
   "cell_type": "code",
   "execution_count": 94,
   "metadata": {
    "scrolled": true
   },
   "outputs": [
    {
     "data": {
      "image/png": "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\n",
      "text/plain": [
       "<Figure size 432x288 with 1 Axes>"
      ]
     },
     "metadata": {},
     "output_type": "display_data"
    }
   ],
   "source": [
    "plotParticlePositionInPotential(k,beta,h,n,t,V3)"
   ]
  },
  {
   "cell_type": "markdown",
   "metadata": {},
   "source": [
    "# Oppgave 7"
   ]
  },
  {
   "cell_type": "code",
   "execution_count": 95,
   "metadata": {},
   "outputs": [
    {
     "data": {
      "image/png": "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\n",
      "text/plain": [
       "<Figure size 432x288 with 1 Axes>"
      ]
     },
     "metadata": {},
     "output_type": "display_data"
    },
    {
     "data": {
      "image/png": "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\n",
      "text/plain": [
       "<Figure size 432x288 with 1 Axes>"
      ]
     },
     "metadata": {},
     "output_type": "display_data"
    },
    {
     "data": {
      "image/png": "iVBORw0KGgoAAAANSUhEUgAAAXcAAAD8CAYAAACMwORRAAAABHNCSVQICAgIfAhkiAAAAAlwSFlzAAALEgAACxIB0t1+/AAAADl0RVh0U29mdHdhcmUAbWF0cGxvdGxpYiB2ZXJzaW9uIDIuMi4yLCBodHRwOi8vbWF0cGxvdGxpYi5vcmcvhp/UCwAAIABJREFUeJzt3Xl4VNX9x/H3NxshJIRAAgRCwr5vQhBkEawiiNSlblXBpShubbUutbZ1r0u1Lm2txQ1Rq7ZWKSo/UUBRFBAMCMi+bwIJ+75kOb8/ZhyChCSQSW5m5vN6njyZc+/JzPeE8MnNmXvPNeccIiISXqK8LkBERIJP4S4iEoYU7iIiYUjhLiIShhTuIiJhSOEuIhKGygx3M2tiZlPMbLGZLTSzW0voc6WZzfd/TDezLpVTroiIlIeVdZ67maUD6c65OWaWBMwGLnDOLSrWpzew2Dm3w8zOAR5wzvWszMJFROT4Ysrq4JzbBGzyP95jZouBxsCiYn2mF/uSr4GMINcpIiInoMxwL87MmgKnADNL6TYCmFDWc6WmprqmTZueyMuLiES82bNnb3XOpZXVr9zhbmaJwHvAbc653cfpcwa+cO97nP0jgZEAmZmZ5OTklPflRUQEMLO15elXrrNlzCwWX7C/6Zwbe5w+nYGXgfOdc9tK6uOce9E5l+2cy05LK/MXj4iInKTynC1jwCv43jB9+jh9MoGxwHDn3LLgligiIieqPNMyfYDhwHdmNte/7fdAJoBzbhRwH1APeN73u4AC51x28MsVEZHyKM/ZMl8BVkaf64DrglWUiIhUjK5QFREJQwp3EZEwpHAXEQlDJ3QRU3UxZ90OPl+SV2a/qCjjom4ZNKmbUAVViYhUHyEZ7k9NXMq0FduwUt/mBefg2cnL6dE0hctPzeT8ro2Jjirji0REwkBIhvvO/fmc1a4+L1/do9R+U5dt4arRs/hmzQ6+WbOD29+Zx2M/68SFpzQmPja6iqoVEal6ITnnvutAPrXjY8vsd3rrNJ64qPNR2+4Z+x1t7/2YL5dvqazyREQ8F5LhvvtAPrVrlh3uAJ2bJJe4ffgrs9ix73AwyxIRqTZCLtyLihx7DhWUO9zbNqzNh7/sy+TbT+eec9qSWezN1R6PTObd2Rsqq1QREc+E3Jz7nkMFOAe148tfeqcM39F7y/pJ3NC/Bdv2HqL7nyZTUOS487/z6JyRTOsGSZVVsohIlQu5I/fdB/IBSC7nkXtJ6iXW4J0bTgu0z35mKrPX7qhwbSIi1UXIhfsuf7iXd1rmeDo1PnoufuKizeQXFlXoOUVEqouQC/dgHLkD1IyLZsnDg7nljBYAvPDFKh74YGGF6xMRqQ5CL9wP+o/cy3EqZFniY6O5a1DbQPu/enNVRMJEyIV7s9REfn1mK9KT44P+3IcLihj91eqgP6+ISFULuXBv0zCJ2we2JqVWXNCe89ELOwUePzR+UdCeV0TEKyEX7pXhip6ZDO+VFWg/+ckSD6sREak4hbvfbWe1IjsrBYB/TFkZmNsXEQlFCne/eok1GDW8e6Dd+YGJbN510MOKREROnsK9mNTEGsz+41mB9tOTlnIwv9DDikRETo7C/UfqJdZgYPsGALyTs4HXZ6zxtB4RkZOhcC/BS1dlM7RzOgCPfrSEN2as8bQeEZETpXA/jr/9/JTAufT3vq8rV0UktCjcjyMqyti5/8gZM/+YssLDakRETkyZ4W5mTcxsipktNrOFZnZrCX3MzP5mZivMbL6ZdauccqvWk5ccuYvTk58s9bASEZETU54j9wLgDudcO6AXcIuZtf9Rn3OAVv6PkcA/g1qlR4Z2bsSdZ7cOtB/4YCHOOQ8rEhEpnzLD3Tm3yTk3x/94D7AYaPyjbucDrzufr4E6ZpYe9Go9UPxG2mOmr9G67yISEk5ozt3MmgKnADN/tKsxsL5YewPH/gIIScN6ZXFlz8xA++JRM5i0KNfDikREylbucDezROA94Dbn3O4f7y7hS46ZvzCzkWaWY2Y5W7ZsObFKPRIfG81D53ekX6vUwLZ563d6WJGISNnKFe5mFosv2N90zo0tocsGoEmxdgaw8cednHMvOueynXPZaWlpJ1OvJ6KjjFev6RFoPzdlhc6eEZFqrTxnyxjwCrDYOff0cbp9AFzlP2umF7DLObcpiHV6Lib66G/Vk58sZbKmZ0SkmirPkXsfYDjwEzOb6/8YYmY3mtmN/j4fAauAFcBLwM2VU663Pr2j/1Ht617P8agSEZHSxZTVwTn3FSXPqRfv44BbglVUddUiLZF/XtmNm96c43UpIiKl0hWqJ+icTulMvv3IEfyYabotn4hUPwr3k9CyfiKjhvnWfn/gw0UcLijyuCIRkaMp3E9Sh0a1A49HvPYN+YUKeBGpPhTuJ6lJ3QT+d3NvAL5cvpX5G3Tuu4hUHwr3Cmhf7Oh9865DHlYiInI0hXsF1IiJ5tnLugJw/wcL2bZXAS8i1YPCvYIuOMW3hM7WvYf488dLPK5GRMRH4R5E477dyPrt+70uQ0RE4R4M9w31LW9/uLCIG/81my17ND0jIt5SuAfBL/o2463regKwcONuTnvsU48rEpFIp3APkt4tU7l9oO+uTQVFjqnLQmNJYxEJTwr3IBrWK4sWabUAuGr0LE3PiIhnFO5BVLdWHGNv7hNo93hkMuu26Q1WEal6CvcgS64Zy5KHBwfat/3nW3J3H/SwIhGJRAr3ShAfGx24c9OcdTu5d9wCjysSkUijcK8kZ7StT3pyPADfrNnO9zsPeFyRiEQShXsleueG02iUHM+O/fn87PlpXpcjIhFE4V6JmtRN4LIemQDk7j7Eda/ptnwiUjUU7pXshv7NGdbLF/CTF+dSoHXfRaQKKNwrWXxsNDcPaBlob9qlM2dEpPIp3KtAozo1GXOt7+yZfk9M4e5352t5YBGpVAr3KtK4Ts3A4//krOfFqas8rEZEwp3CvYqkFwt3gBemruJfX6/1qBoRCXcK9yqSWCOGq07L4pdnHJl//+O4Bbw6bbWHVYlIuFK4V6GHzu/InYPaHLXtwQ8XeVSNiISzMsPdzEabWZ6ZlXgNvZklm9mHZjbPzBaa2bXBLzO8/PXnXY9qFxU5jyoRkXBVniP3McDgUvbfAixyznUBBgBPmVlcxUsLX+d3bcy39w4kuWYsAH8Y9x3OKeBFJHjKDHfn3FRge2ldgCQzMyDR37cgOOWFr5RacTzrP4J/e9Z6nf8uIkEVjDn354B2wEbgO+BW51yJl2Ga2UgzyzGznC1bdKei4qdH9n9yCjv2HfawGhEJJ8EI90HAXKAR0BV4zsxql9TROfeicy7bOZedlpYWhJcObc1Ta3FRtwwA8gsdz05exv7D+qNHRCouGOF+LTDW+awAVgNtg/C8YS8mOoqnLu3C0M7pALw2Yy2P/N9ij6sSkXAQjHBfB5wJYGYNgDaALr88Ac9d0S3weNGm3R5WIiLhojynQr4NzADamNkGMxthZjea2Y3+Lg8Dvc3sO+BT4G7n3NbKKzk8PXlxZwC+XbeTD+dt9LgaEQl1MWV1cM5dXsb+jcDZQasoQl2S3YQVeXt5Yeoq7n5vPkM7p+M7AUlE5MTpCtVqZOTpzUlJiGX/4UL6PP6Z1+WISAhTuFcj9RJrcPvA1gBs3HWQtdv2eVyRiIQqhXs106t5vcDj/k9+zt8/Xc6Bw4UeViQioUjhXs20apDEV3efEWg/NWkZb81a52FFIhKKFO7VUOM6Nbn6tCzSk+MBeHj8Ipbl7vG4KhEJJQr3asjMePD8jsy450xOyawDwAMfLPS4KhEJJQr3au6P57YHYPrKbTw2QVevikj5KNyrue5ZKdzlv8HHC1/owl8RKR+FewgY1vPI/Pv8DTs9rkZEQoHCPQQkJ8Ty1CVdADjvuWlc9sIMtmt5YBEphcI9RHTKSA48nrl6O38c9x37Dml5YBEpmcI9RCTFx7L8kXMC7Y++28yzk5d5WJGIVGcK9xASGx3FJ7edzqAODQB46cvVrNyy1+OqRKQ6UriHmDYNkxg1rDvX9G4KwB3vzNPNtUXkGAr3EGRm/PrMVsTFRDF3/U6G/v0rr0sSkWpG4R6i6taK43eDfXczXLhxN58uzvW4IhGpThTuIWxIp/TA4xGv5TBz1TZN0YgIoHAPaQ2T4/nyt0dWkLzsxa+ZuEhH8CKicA95GSk1+XmPJoH2veMWsGarbvIhEukU7iHOzHj8os48fEFHAPL2HOI378z1uCoR8ZrCPUwM75VFN//ywLv253MwX3dvEolkCvcwMmp4d1rWT2TV1n2c/9w0r8sREQ8p3MNI/aR4ujbxHb0vzd3Dfe8v0NkzIhFK4R5mLiv25urrM9by4IeLyC8s8rAiEfFCmeFuZqPNLM/MFpTSZ4CZzTWzhWb2RXBLlBPRo2ld5t43kOSasQCMmb6GC5+fRt7ugx5XJiJVqTxH7mOAwcfbaWZ1gOeB85xzHYBLglOanKw6CXHMu/9sHjyvAwALvt/NqY9+ylfLt3pcmYhUlTLD3Tk3FdheSpcrgLHOuXX+/nlBqk0q6OreTXnrup6B9rBXZjJrdWn/lCISLoIx594aSDGzz81stpldFYTnlCDp3TKVt64/EvCXvjCDka/naB5eJMwFI9xjgO7AucAg4F4za11SRzMbaWY5ZpazZcuWILy0lEfvFqks/dNgbji9OQATF+Uy7OWZ7D+sOzmJhKtghPsG4GPn3D7n3FZgKtClpI7OuRedc9nOuey0tLQgvLSUV42YaO4Z0o6v7vatRTNz9Xba3/eJVpMUCVPBCPf3gX5mFmNmCUBPYHEQnlcqQUZKAhNu7Rdoj3gth2W5ezysSEQqQ3lOhXwbmAG0MbMNZjbCzG40sxsBnHOLgY+B+cAs4GXn3HFPmxTvtUuvzVOXHPnj6uxnpnLly1/rgieRMGJe/YfOzs52OTk5nry2+KzI28tZTx+5LOHmAS248+w2REWZh1WJSGnMbLZzLrusfrpCNYK1rJ/IqGHdA+3nP1/JqKkrOVygM2lEQp3CPcINaJPG5admBtpPfLyU617PIVdXtIqENIV7hIuPjeaxn3XivZt6B7ZNXbaFkW/M9rAqEakohbsA0D0rhXuHtg+0563fyeivVntYkYhUhMJdAkb0bcaihwYxsH0DAB4av4g3vl6rs2hEQpDCXY6SEBfDmW3rB9r3jltAr8c+ZePOAx5WJSInSuEux7i4ewaPXNgx0M7dfYi3Zq7TEbxICFG4yzFioqO4smcW8+47m+G9sgB4bsoKbn5zDks27/a4OhEpD4W7HFdyQiwPX9CRG/u3AGDCgs0MfvZLpizVqs4i1Z3CXcr0u3Pa8sLwIxc7XfvqN1zx0tfsOZjvYVUiUhqFu5TLoA4NWfnoEK7p3RSA6Su30emBicxYuY3CIs3Fi1Q3Cncpt+go476h7enf+shyzZe/9DV9Hv+M8fM3eliZiPxYjNcFSGiJijJe+8WprN++n3kbdnLrv+eyefdBfvnWtwAM7dzI4wpFBHTkLiepSd0EhnZuxJx7B9KvVSoAv3zrW56etIwVeXs5VFDocYUikU3hLhWSXDOWV67uQbfMOgD87dPlnPX0Fzz04SKPKxOJbAp3qbC4mCjevbH3UdvenLmOF6eu9KgiEVG4S1BERRnv39KHtg2TAtse/WgJ17+uG7KIeEF3YpKgKigsYs22/bw3ZwOfLNzMqi37OLt9A+4Z0o6m9RIw012eRCpCd2IST8RER9GyfiJ3D27L335+CgATF+Vyxl8+5z/frPe4OpHIoXCXStMuvTYt6ycG2r8b+x1Xj57FF8u2eFiVSGRQuEuliY4yJt/eP3BVK8AXy7Zw9ehZ3PBGjq5sFalECnepdA+c14G/X37KUds+WZhLi99/xPrt+z2qSiS8KdylSvy0SyM+u6M/KQmxR23v98QUPluS61FVIuFL4S5VpnlaInPuHchD53fg0uyMwPZfjMnh8QlLPKxMJPyUGe5mNtrM8sxsQRn9ephZoZldHLzyJNyYGVed1pQnLu7CggcHcdMA31rxo75YSb8nPiNnzXaPKxQJD+U5ch8DDC6tg5lFA38GPglCTRIhEmvE8NtBbbiubzMA1m8/wMWjZmgeXiQIygx359xUoKzDqV8B7wG6RY+cEDPjwm6Nj9r2l4lLtfCYSAVVeM7dzBoDFwKjKl6ORKIOjZJZ8vBgFj/k+wPx/bkbeXXaGm+LEglxwXhD9VngbudcmYdaZjbSzHLMLGfLFl3IIkfEx0ZTMy460H58whLu+u88Nu866GFVIqGrXGvLmFlTYLxzrmMJ+1YDPywYkgrsB0Y658aV9pxaW0ZKMnvtDi765/Sjtg3u0JAR/Xzz8h0a1SYhTveYkchV3rVlKvy/xDnXrNiLjsH3S6DUYBc5nu5ZKfz3xtP4fGkeC77fzRfLtvDxws18vHAzALcPbM2vz2zlcZUi1V+Z4W5mbwMDgFQz2wDcD8QCOOc0zy5B16NpXXo0rUt+YRFPTVzGS1+uCixV8PSkZbSsn8hpzeuRUivO40pFqi8t+SvV3qGCQmKjovjFa9/w+dIj79X88dx2jOjbTMsIS0TRkr8SNmrERBMVZfz6zFb0blGPzLoJAPzp/xbT7J6PmL5iK14dpIhUVzpyl5C0Im8vZz39RaB9WXYTbj6jBVn1anlYlUjlK++Ru8JdQtb8DTv5dt1O7v9gYWBbv1apvHpND2Ki9UephCdNy0jY65xRh6t7N2X8r/rSLNV3xP7l8q20/MME1m3TEgYS2RTuEvI6Nk5myp0DWP3YEM7r0giA05+cwjOTlrHrQL7H1Yl4Q9MyEnbemrmO3//vu0D73M7pXN+vOV2b1PGwKpHg0LSMRKwremYy8/dnckabNAD+b/4mLvjHNIa/MpPvdx7QmTUSEXTkLmFt295DzFi1jTvemcehgiIAujSpw18u7kyrBkkeVydy4nTkLgLUS6zB0M6NmHf/2Tzw0/YAzFu/k4HPTGXqMi1eJ+FL4S4RIT42mmv6NGPZn85hWK9MAK4aPYsXvlgZWNpAJJwo3CWixMVE8eB5Hbnh9OYAPDZhCS1+/xELN+7yuDKR4FK4S8SJjjLuGdKOOwa2Dmw7929fMWfdDg+rEgkuhbtErF+d2YpRw7oF2j97fjp/KHYKpUgoU7hLRBvcMZ0v7hrAwPYNAHhz5jp+++48zcNLyFO4S8TLqleLl67K5tVregDwTs4GfvnWHN2kW0Kawl3Er2fzuoHlhCcs2MyfJyxl76ECj6sSOTm6iEnkR358H9erT8vi/FMa0y0zxcOqRHx0EZPISeqelUKHRrUD7ddmrOVnz09nww6tNCmhQ+EuUoIx157Kkxd3DkzTAPT98xQ+mLeRgsIiDysTKR9Ny4iUIb+wiLOfmcrqrfsC287p2JBr+zTDOYeZ0aZBEskJsR5WKZFCd2ISCbJ3vlnPuLnfM3f9TvYfPvZMmicu6sylPZp4UJlEEoW7SCU5mF/I+PmbKHIO82+76935gG/t+L4tU7n81EzvCpSwpnAXqUI3vJHDJwtzA+1GyfF8/JvTqR2vqRoJLp0tI1KFbujfgrPaNeB2/3o1G3cd5M2v11GkK13FIzpyFwki5xx3vTufd2dvAMAMXr4qmzPbNfC4MgkXQTtyN7PRZpZnZguOs/9KM5vv/5huZl1OpmCRcGBm/OWSLnTOSAbAORjxWg7PTFrmcWUSacozLTMGGFzK/tVAf+dcZ+Bh4MUg1CUS0t6+vhcPX9Ax0P7rp8v5fGmehxVJpCkz3J1zU4Htpeyf7pz7YSHsr4GMINUmErJq1YhheK8sbhrQIrDtmle/YcoSBbxUjZggP98IYMLxdprZSGAkQGamThWT8HfzgBakJMSy60A+/5iykmvHfANA/9Zp3HpWK61XI5WmXG+omllTYLxzrmMpfc4Angf6Oue2lfWcekNVIs2kRbk8PWkZizftDmy7/NQmXNYjk65N6nhYmYSS8r6hGpQjdzPrDLwMnFOeYBeJRAPbN2Bg+wYUFBbxzZod/HHcd7w9az1vz1rPoA4NePTCTtRLrOF1mRImKnyeu5llAmOB4c45nRIgUoaY6ChOa1GPsTf1CWz7ZGEu3f80mccmLGbJ5t2lfLVI+ZQ5LWNmbwMDgFQgF7gfiAVwzo0ys5eBi4C1/i8pKM+fDJqWEYF9hwqYtmIrT09axpLNewLbm6fV4vp+zbmkewYx0brWUI7Q8gMiIcQ5x9LcPdz277lHhXz3rBRGDetOWpKma8RHyw+IhBAzo23D2nx82+msenQI2Vm+s2hmr91Bj0cmM33FVvK1jrycAB25i1RTy3P3cN/7C5mxyneOQnxsFJ0z6nBB18bERBttGybRsn4iCXHBPqNZqrMqPVtGRIKvVYMk3ryuJ8vz9vL2rHVs33eYD+ZtZNbqI9cUxsVE0S69Ntf3a8a5ndIxs1KeUSKJjtxFQsj4+RspLHJ0apzMd9/vYsqSPMbN3QhA4zo1GX1ND9o0TPK4SqlMekNVJEK8k7Oe3/pvFgLwhyHtGNI5ncZ1anpYlVQWvaEqEiEuzW7CdX2bBdqPfLSYPo9/xuMTlmg9+QimI3eRMJK3+yC/eWcu01b43oStFRfNGW3rc/OAlrRvVNvj6iQYNC0jEsF27j/MQ+MXMXFhLnsPFRBl8O5NvWlarxZ1a8V5XZ5UgMJdRAB47rPl/GXikZVB7hrUhvjYaC7o2khr2YQghbuIAFBQWMTkxXn8+eMlrN6675j9Nw1owQVdG+ssmxChcBeRY3y2JJcaMdF8v/MAz322gnXb9wf2NU+rxb9G9KSRzrKp1hTuIlKmFXl7ufO/85i7ficAvVvU485BbejUOJlYLVhWLSncReSEnPX0F6zI2xto922ZSkZKTXo0rcs5nRpqmYNqQuEuIidk/oadfL1qG5t2HeTVaWuO2T+oQwPSkmpQPyme6CgjPjaan3ZJp35SfNUXG8EU7iJy0pb6lx2euHAzT00q/R48b17Xk57N6gJo7fkqoHAXkaDILyxi297D1EmI5fEJS7ioWwYOx0MfLiJn7Y6j+j53xSkM6tBQ8/WVSOEuIpWqqMixZPMefjd2PvM37Dpq3w2nN+enXRrRpG4CyTVjPaowPCncRaRKOOd4+cvVvPTlKvL2HDpm/8Pnd+Dnp2bqaD5IFO4iUqWKihwOWJ63h/vGLeTb9TvILzySL1H+peazs+pSt1YcV/TMpG/LVKKitAb9iVC4i4jn/jp5OaOnraZJ3Zq0bpDE2Dnf07pBIuu3H+BAfiF1EmL5Sdv69G6RSvv02lrcrBwU7iJS7azfvp+MlJps33eYZycv59/frDvq6D6zbgI9m9WlQ6PaDOzQUGvSl0DhLiLVnnOOjbsOMurzlYyfv5Ed+/OP2v/AT9tzTZ9mx/nqyKRwF5GQ89Xyrazeto9NOw/w/OcrATi9dRr9WqZyarO61KoRQ71acaRE8LLFCncRCWlrt+2j/5OfH7O9Xq047j6nLZdmN6n6oqqBoIW7mY0GhgJ5zrmOJew34K/AEGA/cI1zbk5ZL6xwF5GyrN++n7SkGizP3cucdTtYuWUvr89YC0CflvVomZZ4zNfERkfRKSOZjo2TaVavVtidjRPMcD8d2Au8fpxwHwL8Cl+49wT+6pzrWdYLK9xF5GTsPpjPT/7yObsPFJBQI/qY/fsPF3K4oAiAdum1+c1ZrWhRP5G46CgyUmriOx4NXeUN9zKXeXPOTTWzpqV0OR9f8DvgazOrY2bpzrlN5a5WRKScasfH8tmdA6gRE0WNmGPD/WB+ISvy9jJhwSZenLqKkW/MDuzr0qQOgzo0oGezenTPSqnKsqtcMNbwbAysL9be4N92TLib2UhgJEBmZmYQXlpEIlHt+OMvaRAfG03Hxr5pmZH9WjD/+51s33eYZbl7eH3GWp742Ld2fb9WqdSIiaJzRh3qJMSSnlyTzLoJxEQbLUqY7gk1wQj3kv7GKXGuxzn3IvAi+KZlgvDaIiLHlZwQS79WaYH29f2aM/qr1cxet4O9hwpYt/0wkxfnHfN1b4w49aivC0XBCPcNQPG3rTOAjUF4XhGRoKqTEMftZ7c5atv67fuZvDiXuJgodh3I54mPlzL8lVk0T63F6a3TGNYri4yUmsTHHjsFVJ0FI9w/AH5pZv/G94bqLs23i0ioaFI3gWuLXSjVt2Uqny7O48P5GxkzfQ1jpq8BoGm9BPILHWe0TeMXfZrRvJpP3ZTnbJm3gQFAKpAL3A/EAjjnRvlPhXwOGIzvVMhrnXNlngajs2VEpDo7mF/Iv2etY+y337Nj/2G27T3M/sOFgf1tGybRLSuFK07NpG3DpCq7UYkuYhIRCaKiIseegwV8MO97Ppy/iUP5hczzr2MfE2XExUQxpFM6GSk1qRUXw6XZTUhOCP5a9gp3EZFKNmVpHks27WHaiq18tWLrMfv7tUrl3E7pZDdNIS0pniiDpFLO9CkPhbuISBVxzrF2235ioo3UxBos2rSb2/8zlzXb9h/TN6teAsN7ZXFdv+Yn9VpBu4hJRERKZ2Y0Ta0VaHfLTGHcLX2YtXo7jerUZMKCTdSMjSa/0LE8bw+piTUqvSaFu4hIJaiTEMfZHRoC0LFxcpW/vm5qKCIShhTuIiJhSOEuIhKGFO4iImFI4S4iEoYU7iIiYUjhLiIShhTuIiJhyLPlB8xsC7D2JL88FTh2IYfwpjFHBo05MlRkzFnOuTLvJOJZuFeEmeWUZ22FcKIxRwaNOTJUxZg1LSMiEoYU7iIiYShUw/1FrwvwgMYcGTTmyFDpYw7JOXcRESldqB65i4hIKUIu3M1ssJktNbMVZvY7r+sJFjMbbWZ5Zrag2La6ZjbJzJb7P6f4t5uZ/c3/PZhvZt28q/zkmVkTM5tiZovNbKGZ3erfHrbjNrN4M5tlZvP8Y37Qv72Zmc30j/k/Zhbn317D317h39/Uy/pPlplFm9m3Zjbe3w7r8QKY2Roz+87M5ppZjn9blf1sh1S4m1k08A/gHKA9cLmZtfe2qqAZAwz+0bbfAZ8651oBn/rb4Bt/K//HSOCfVVRjsBUAdzjn2gG9gFv8/57hPO5DwE+cc12ArsBgM+sF/BkHwcoUAAAC20lEQVR4xj/mHcAIf/8RwA7nXEvgGX+/UHQrsLhYO9zH+4MznHNdi532WHU/2865kPkATgM+Kda+B7jH67qCOL6mwIJi7aVAuv9xOrDU//gF4PKS+oXyB/A+MDBSxg0kAHOAnvguaInxbw/8nAOfAKf5H8f4+5nXtZ/gODP8QfYTYDxg4TzeYuNeA6T+aFuV/WyH1JE70BhYX6y9wb8tXDVwzm0C8H+u798edt8H/5/fpwAzCfNx+6co5gJ5wCRgJbDTOVfg71J8XIEx+/fvAupVbcUV9izwW6DI365HeI/3Bw6YaGazzWykf1uV/WyH2j1UrYRtkXi6T1h9H8wsEXgPuM05t9uspOH5upawLeTG7ZwrBLqaWR3gf0C7krr5P4f0mM1sKJDnnJttZgN+2FxC17AY74/0cc5tNLP6wCQzW1JK36CPO9SO3DcATYq1M4CNHtVSFXLNLB3A/znPvz1svg9mFosv2N90zo31bw77cQM453YCn+N7v6GOmf1wsFV8XIEx+/cnA9urttIK6QOcZ2ZrgH/jm5p5lvAdb4BzbqP/cx6+X+KnUoU/26EW7t8ArfzvtMcBPwc+8LimyvQBcLX/8dX45qR/2H6V/x32XsCuH/7UCyXmO0R/BVjsnHu62K6wHbeZpfmP2DGzmsBZ+N5onAJc7O/24zH/8L24GPjM+SdlQ4Fz7h7nXIZzrim+/6+fOeeuJEzH+wMzq2VmST88Bs4GFlCVP9tev+lwEm9SDAGW4Zun/IPX9QRxXG8Dm4B8fL/FR+Cba/wUWO7/XNff1/CdNbQS+A7I9rr+kxxzX3x/es4H5vo/hoTzuIHOwLf+MS8A7vNvbw7MAlYA/wVq+LfH+9sr/Pubez2GCox9ADA+EsbrH988/8fCH7KqKn+2dYWqiEgYCrVpGRERKQeFu4hIGFK4i4iEIYW7iEgYUriLiIQhhbuISBhSuIuIhCGFu4hIGPp/WlNtk+LPINsAAAAASUVORK5CYII=\n",
      "text/plain": [
       "<Figure size 432x288 with 1 Axes>"
      ]
     },
     "metadata": {},
     "output_type": "display_data"
    }
   ],
   "source": [
    "h=1\n",
    "dt=1\n",
    "L=50\n",
    "Cc=0.07*scipy.constants.e     ##*10**6 M står for mol og ikke Mega\n",
    "\n",
    "t=500\n",
    "\n",
<<<<<<< HEAD
    "t=500\n",
=======
>>>>>>> 4d7515dbfd2404210a9584cceecf2b285395983a
    "\n",
    "\n",
    "\n",
    "V0=1/beta \n",
    "V0_Na=V0 \n",
    "V0_K=V0\n",
    "\n",
<<<<<<< HEAD
    "k=0.5*scipy.constants.eV\n",
    "\n",
=======
>>>>>>> 4d7515dbfd2404210a9584cceecf2b285395983a
    "x0=L/4\n",
    "t0=0\n",
    "NaB0=1450   #skriver B for utenfor cellen, og A for innenfor\n",
    "KB0=50\n",
    "NaA0=60\n",
    "KA0=1400\n",
    "\n",
<<<<<<< HEAD
    "def V_Na1(x,Vt):\n",
    "    if x>=-h and x<=h:\n",
    "        return V0_Na+Vt  #lineær overgang mellom utsiden og innsiden\n",
=======
    "def V_Na1(x,Vt):                                                              ##litt usikker på verdier her \n",
    "    if x>=-h and x<=h:\n",
    "        return V0_Na+Vt  #lineær overgang mellom utsiden og innsiden    \n",
>>>>>>> 4d7515dbfd2404210a9584cceecf2b285395983a
    "    elif x<-h:\n",
    "        return Vt\n",
    "    else:\n",
    "        return 0\n",
    "\n",
    "    \n",
    "def V_K1(x,Vt):\n",
    "    if x>=-h and x<=h:\n",
    "        return V0_K+Vt\n",
    "    elif x<-h:\n",
    "        return Vt\n",
    "    else:\n",
    "        return 0\n",
    "    \n",
    "\n",
    "def randomWalkPotential(V_Na,V_K): #hvilke parametere bør tas inn?\n",
    "    NaPos=[-x0]*NaB0+[x0]*NaA0  #liste over posisjon til hver Na-partiklene\n",
    "    #legger til riktig antall utenfor og inni cellen\n",
    "    KPos=[-x0]*KB0+[x0]*KA0   #liste over posisjon til hver K-partikkel\n",
    "    tList=np.arange(0,t,1)   #liste med tidsverdier\n",
    "    #QB=KB0+NaB0  #ladning utenfor    \n",
    "    \n",
    "    \n",
    "    #ladning inni cellen (ved start):\n",
<<<<<<< HEAD
    "    QA=KA0+NaA0*scipy.constants.e\n",
=======
    "    QA=KA0+NaA0*scipy.constants.e                            #husk at hver partikkel representerer 0.1mM\n",
    "    partIn=KA0+NaA0                                          #antall partikler på innsiden \n",
    "    #Q_plus=abs(QA-QB)\n",
>>>>>>> 4d7515dbfd2404210a9584cceecf2b285395983a
    "    \n",
    "    #antall K- og Na- partikler utenfor og innenfor cellen\n",
    "    KA=KA0\n",
    "    NaA=NaA0\n",
    "    KB=KB0   #trengs disse egt? tror de er konstante\n",
    "    NaB=NaB0\n",
    "    \n",
<<<<<<< HEAD
    "    VtList=[]\n",
=======
    "    VtList=[]                \n",
>>>>>>> 4d7515dbfd2404210a9584cceecf2b285395983a
    "    \n",
    "    #plt.hist(NaPos,bins=50)\n",
    "    #plt.show()\n",
    "    #plt.hist(KPos,bins=50)\n",
    "    #plt.show()\n",
    "    \n",
    "    for i in range(t):\n",
    "        #regner ut potensialet V(t)\n",
<<<<<<< HEAD
<<<<<<< HEAD
    "        Vt=QA/Cc\n",
    "        VtList.append(Vt)\n",
=======
    "        Vt.append(QA/Cc)\n",
>>>>>>> 535123ef2ca3bbde0ae4753bd600818c0c01c442
    "        \n",
    "        #Na-partiklene:\n",
    "        for j in range(len(NaPos)):\n",
    "                print(Vt)\n",
    "                PdivP_Na=math.exp(-beta*(V_Na(NaPos[j]-h,Vt)-V_Na(NaPos[j]+h,Vt))) #Hvilket potensial skal her?\n",
=======
    "        Vt=QA/Cc*scipy.constants.e\n",
    "        Vt=partIn*0.1e-3*scipy.constants.eV              ##bruker dette istedet, partIn= antall partikkler på insiden, se hint oppg 7.1 \n",
    "        Vt=partIn*0.1*0.001/0.07\n",
    "        \n",
    "        VtList.append(Vt)   \n",
    "        \n",
    "        #print(\"Vt\",Vt,\"partIn\",partIn)\n",
    "        #print(NaPos)\n",
    "        \n",
    "        #Na-partiklene:\n",
    "        for j in range(len(NaPos)):\n",
    "                try:\n",
    "                    PdivP_Na=math.exp(-beta*(V_Na(NaPos[j]-h,Vt)-V_Na(NaPos[j]+h,Vt))) #Hvilket potensial skal her?\n",
    "                except: \n",
    "                    print(\":(\")\n",
    "                    print(\"beta:\",beta,\"V_Na(NaPos[j]-h,Vt):\",V_Na(NaPos[j]-h,Vt),\"V_Na(NaPos[j]+h,Vt):\",V_Na(NaPos[j]+h,Vt))\n",
    "                    print(\"NaPos[j]+h\",NaPos[j]+h)\n",
>>>>>>> 4d7515dbfd2404210a9584cceecf2b285395983a
    "                P_Na=PdivP_Na/(1+PdivP_Na)\n",
    "                step=generateRandomStep(P_Na)\n",
    "                NaPos[j]+=step\n",
    "        \n",
    "        #For K-partiklene\n",
    "        for k in range(len(KPos)):\n",
<<<<<<< HEAD
    "\n",
    "                PdivP_K=math.exp(-beta*(V_K(KPos[k]-h,Vt)-V_K(KPos[k]+h,Vt))) \n",
=======
    "                try:\n",
    "                    PdivP_K=math.exp(-beta*(V_K(KPos[k]-h,Vt)-V_K(KPos[k]+h,Vt))) \n",
    "                except:\n",
    "                    print(\"feil i for k in range(len(KPos)) \")\n",
>>>>>>> 4d7515dbfd2404210a9584cceecf2b285395983a
    "                P_K=PdivP_K/(1+PdivP_K)\n",
    "                step=generateRandomStep(P_K)\n",
    "                KPos[k]+=step\n",
    "\n",
    "        \n",
    "        #regner ut antall partikler inni cellen\n",
    "        KA=0    #la på dette\n",
    "        NaA=0   #og dette\"\n",
    "        #print(KPos)\n",
    "        \n",
    "        #for å finne ut total ladning inni cellen\n",
    "        for K in KPos:\n",
    "            if K<-h:\n",
    "                KA+=1       #pluss i stedet for minus er det ikke\n",
    "                #print(\"hei\")\n",
    "        #print(NaPos)\n",
    "        #print(QA)\n",
    "        for Na in NaPos:\n",
    "            #print(Na)\n",
    "            if Na<-h:\n",
    "                NaA+=1      #pluss i stedet for minus er det ikke\n",
    "                #print(\"hei\")\n",
    "        QA=(KA+NaA)*scipy.constants.e\n",
    "        partIn=KA+NaA\n",
    "        \n",
<<<<<<< HEAD
<<<<<<< HEAD
    "        QA=(KA+NaA)*scipy.constants.e\n",
    "        #print(QA)\n",
    "        #print(Q_plus)\n",
=======
    "        QA=KA-NaA\n",
>>>>>>> 535123ef2ca3bbde0ae4753bd600818c0c01c442
=======
    "        #print(QA)\n",
    "        #print(Q_plus)\n",
>>>>>>> 4d7515dbfd2404210a9584cceecf2b285395983a
    "        #print(KA,NaA)\n",
    "        \n",
    "        #if (t%50==0):\n",
    "             #plt.hist(NaPos,bins=50)\n",
    "             #plt.show()\n",
    "             #plt.hist(KPos,bins=50)\n",
    "             #plt.show()\n",
    "                \n",
    "  \n",
    "\n",
    "        \n",
    "        \n",
    "        \n",
    "        \n",
    "        \n",
    "    plt.hist(NaPos,bins=50)\n",
    "    #plt.ylim(0,10)\n",
    "    plt.show()\n",
    "    plt.hist(KPos,bins=50)\n",
    "    plt.show()\n",
<<<<<<< HEAD
    "    print(\"ok\")\n",
    "    plt.plot(tList,VtList)\n",
    "    #print(Vt)\n",
    "\n",
=======
    "    \n",
    "    plt.plot(tList,VtList)\n",
    "    #print(Vt)\n",
    "\n",
    "    \n",
    "\n",
>>>>>>> 4d7515dbfd2404210a9584cceecf2b285395983a
    "randomWalkPotential(V_Na1,V_K1)\n",
    "        \n",
    "        "
   ]
  },
  {
   "cell_type": "markdown",
   "metadata": {},
   "source": [
    "#oppgave 8"
   ]
  },
  {
   "cell_type": "code",
   "execution_count": null,
   "metadata": {},
   "outputs": [],
   "source": []
  },
  {
   "cell_type": "code",
   "execution_count": null,
   "metadata": {},
   "outputs": [],
   "source": []
  }
 ],
 "metadata": {
  "kernelspec": {
   "display_name": "Python 3",
   "language": "python",
   "name": "python3"
  },
  "language_info": {
   "codemirror_mode": {
    "name": "ipython",
    "version": 3
   },
   "file_extension": ".py",
   "mimetype": "text/x-python",
   "name": "python",
   "nbconvert_exporter": "python",
   "pygments_lexer": "ipython3",
   "version": "3.6.4"
  }
 },
 "nbformat": 4,
 "nbformat_minor": 2
}
